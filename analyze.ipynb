{
 "cells": [
  {
   "cell_type": "code",
   "execution_count": 103,
   "id": "f9a3a90d",
   "metadata": {},
   "outputs": [],
   "source": [
    "import os\n",
    "import json\n",
    "import pandas as pd\n",
    "import plotly.graph_objects as go"
   ]
  },
  {
   "cell_type": "code",
   "execution_count": 104,
   "id": "9b676f37",
   "metadata": {},
   "outputs": [],
   "source": [
    "data_dir = './data_dump'\n",
    "pd.set_option('display.max_columns', None)"
   ]
  },
  {
   "cell_type": "code",
   "execution_count": 106,
   "id": "f6ba9368",
   "metadata": {},
   "outputs": [],
   "source": [
    "# for fn in os.listdir(data_dir):\n",
    "#   with open(os.path.join(data_dir, fn), 'r') as f:\n",
    "#     data = json.load(f)\n",
    "#     df_raw = pd.json_normalize(data)\n",
    "with open(os.path.join(data_dir, '20250725-172602_proj_dzpYvLgn.json'), 'r') as f:\n",
    "  data = json.load(f)\n",
    "  df_raw = pd.json_normalize(data)"
   ]
  },
  {
   "cell_type": "code",
   "execution_count": 107,
   "id": "5ac101df",
   "metadata": {},
   "outputs": [
    {
     "data": {
      "text/plain": [
       "{'medium.base_density': np.float64(1.225),\n",
       " 'medium.drag_coef': np.float64(0.47),\n",
       " 'medium.drag_model': 'quadratic',\n",
       " 'medium.molar_mass': np.float64(0.029),\n",
       " 'medium.rha_coef': np.float64(1e-05),\n",
       " 'medium.speed_of_sound': np.float64(343.0),\n",
       " 'medium.type': 'gas',\n",
       " 'medium.viscosity': np.float64(1.81e-05),\n",
       " 'naming.ammo_name': '5.56x45_M855',\n",
       " 'naming.projectile_uid': 'proj_dzpYvLgn',\n",
       " 'naming.weapon_name': 'SCAR_L_CQC',\n",
       " 'projectile.ammo': '<Resource#-9223371996170025611>',\n",
       " 'projectile.caliber': np.float64(5.7),\n",
       " 'projectile.core_caliber': np.float64(5.4),\n",
       " 'projectile.core_hardness': np.float64(0.6),\n",
       " 'projectile.core_mass': np.float64(2.0),\n",
       " 'projectile.cross_section': np.float64(2.55175863287831e-05),\n",
       " 'projectile.drag_coef': np.float64(0.28),\n",
       " 'projectile.fragmentation_chance': np.float64(0.1),\n",
       " 'projectile.fragmentation_count': np.int64(0),\n",
       " 'projectile.fragments_max': np.int64(4),\n",
       " 'projectile.fragments_min': np.int64(2),\n",
       " 'projectile.impact_count': np.int64(0),\n",
       " 'projectile.kind': 'normal',\n",
       " 'projectile.length': np.float64(23.0),\n",
       " 'projectile.length_diameter_ratio': np.float64(0.0),\n",
       " 'projectile.magnus_effect_factor': np.float64(0.0),\n",
       " 'projectile.mass': np.float64(4.1),\n",
       " 'projectile.penetration_count': np.int64(0),\n",
       " 'projectile.ricochet_count': np.int64(0),\n",
       " 'projectile.ricochet_max_angle': np.float64(68.0),\n",
       " 'projectile.ricochet_min_angle': np.float64(12.0),\n",
       " 'projectile.spin_decay_rate': np.float64(0.998),\n",
       " 'projectile.stability_factor': np.float64(1.0),\n",
       " 'projectile.ttl': np.float64(2.388),\n",
       " 'projectile.tumble_time': np.float64(0.0),\n",
       " 'projectile.uid': 'proj_dzpYvLgn',\n",
       " 'projectile.weapon': '<Resource#-9223371996086139535>',\n",
       " 'timing.delta': np.float64(0.0166666666666667)}"
      ]
     },
     "execution_count": 107,
     "metadata": {},
     "output_type": "execute_result"
    }
   ],
   "source": [
    "static_data = {}\n",
    "static_cols = ['angular_velocity', 'position', 'velocity', 'rotation']\n",
    "for col in df_raw.columns:\n",
    "  if len(df_raw[col].unique()) == 1 and all(stc not in col for stc in static_cols):\n",
    "    static_data[col] = df_raw[col].unique()[0]\n",
    "df = df_raw.drop(list(static_data.keys()), axis=1)\n",
    "static_data"
   ]
  },
  {
   "cell_type": "code",
   "execution_count": 108,
   "id": "a55719f0",
   "metadata": {},
   "outputs": [
    {
     "data": {
      "text/plain": [
       "Index(['projectile.angular_velocity.x', 'projectile.angular_velocity.y',\n",
       "       'projectile.angular_velocity.z', 'projectile.current_drag_coef',\n",
       "       'projectile.effective_cross_section', 'projectile.flight_time',\n",
       "       'projectile.mach_number', 'projectile.position.x',\n",
       "       'projectile.position.y', 'projectile.position.z',\n",
       "       'projectile.rotation.x.x', 'projectile.rotation.x.y',\n",
       "       'projectile.rotation.x.z', 'projectile.rotation.y.x',\n",
       "       'projectile.rotation.y.y', 'projectile.rotation.y.z',\n",
       "       'projectile.rotation.z.x', 'projectile.rotation.z.y',\n",
       "       'projectile.rotation.z.z', 'projectile.state', 'projectile.velocity.x',\n",
       "       'projectile.velocity.y', 'projectile.velocity.z', 'timing.exec_ratio',\n",
       "       'timing.exec_time', 'timing.frame', 'timing.time',\n",
       "       'projectile.velocity.length', 'projectile.position.length'],\n",
       "      dtype='object')"
      ]
     },
     "execution_count": 108,
     "metadata": {},
     "output_type": "execute_result"
    }
   ],
   "source": [
    "df['projectile.velocity.length'] = (df['projectile.velocity.x']**2 + df['projectile.velocity.y']**2 + df['projectile.velocity.z']**2)**0.5\n",
    "df['projectile.position.length'] = (df['projectile.position.x']**2 + df['projectile.position.y']**2 + df['projectile.position.z']**2)**0.5\n",
    "df.columns"
   ]
  },
  {
   "cell_type": "code",
   "execution_count": 113,
   "id": "e4e3b77b",
   "metadata": {},
   "outputs": [
    {
     "data": {
      "application/vnd.plotly.v1+json": {
       "config": {
        "plotlyServerURL": "https://plot.ly"
       },
       "data": [
        {
         "marker": {
          "color": {
           "bdata": "GVW8Pk/41z8zMzMzM8LXP8dWD7Xkjtc/ot9CwChe1z9vEoPAyi/XP06QLwacA9c/fqFtpXLZ1j96snUAKbHWP7KLejyditY/ekEqobBl1j/3p+FtR0LWP47zrG5IINY/cXz7m5z/1T+9DiDlLuDVP0WBNxDswdU/9ihcj8Kk1T/NMkAAoojVP6MDLZd7bdU/Kr9qXkFT1T8H7qW25jnVP1lucLZfIdU/vEZ0aqEJ1T929vOfofLUP3BSF9pW3NQ/H4XrUbjG1D9cGH2rvbHUP7XrvUBfndQ/Fj6f1pWJ1D8k0cSnWnbUP1kMOG+nY9Q/Fyo1KHZR1D8mxPc4wT/UP5aNVF2DLtQ/wFK5prcd1D+EjxNcWQ3UP2wfUC9k/dM/4rqox9Pt0z8VwLxMpN7TP572RAbSz9M/hI8TXFnB0z/nseAAN7PTPxioF7JnpdM/e9W8guiX0z+rndSFtorTPy+Cif7OfdM/yf94VS9x0z8sjrMY1WTTPxfI/OC9WNM/tGY+d+dM0z8mRhWvT0HTP6g9kYH0NdM/r2oo/dMq0z/hDQQ77B/TP2LRZnQ7FdM/paX5978K0z8onhgfeADTP6rx0k1i9tI/D/VdGH3s0j/rtoj9xuLSPz2vO5w+2dI/AC4fruLP0j/MPHXXscbSPwSV//GqvdI/NTtzx8y00j9seus2FqzSPxsv3SSGo9I/Enwjixub0j80hJlj1ZLSP4+wgL2yitI/EUdnnbKC0j9L9/Qn1HrSP1ZNHncWc9I/SorktHhr0j+ggKIQ+mPSP863v8mZXNI/WiVKGldV0j9B4gJHMU7SP9d1UY8nR9I/5vNpXTlA0j/gBmf7ZTnSPxAOcMOsMtI/MB25Hw0s0j8jJcNvhiXSP17LGyMYH9I/y0aqrsEY0j9rq6J8ghLSP5l2UhdaDNI/zE1H7kcG0j9Lrs6LSwDSP+6D3HRk+tE/zigLKZL00T8fz7RC1O7RP+xRuB6F69E/7FG4HoXr0T/sUbgehevRP+xRuB6F69E/7FG4HoXr0T/sUbgehevRP+xRuB6F69E/7FG4HoXr0T/sUbgehevRP+xRuB6F69E/7FG4HoXr0T/sUbgehevRP+xRuB6F69E/7FG4HoXr0T/sUbgehevRP+xRuB6F69E/7FG4HoXr0T/sUbgehevRP1TjpZvEINA/VOOlm8Qg0D9U46WbxCDQP1TjpZvEINA/VOOlm8Qg0D9U46WbxCDQP1TjpZvEINA/VOOlm8Qg0D9U46WbxCDQP1TjpZvEINA/VOOlm8Qg0D9U46WbxCDQP1TjpZvEINA/VOOlm8Qg0D9U46WbxCDQP1TjpZvEINA/VOOlm8Qg0D9U46WbxCDQP1TjpZvEINA/VOOlm8Qg0D9U46WbxCDQP1TjpZvEINA/VOOlm8Qg0D9U46WbxCDQP1TjpZvEINA/VOOlm8Qg0D9U46WbxCDQP1TjpZvEINA/VOOlm8Qg0D9U46WbxCDQP1TjpZvEINA/VOOlm8Qg0D9U46WbxCDQP1TjpZvEINA/VOOlm8Qg0D9U46WbxCDQP1TjpZvEINA/VOOlm8Qg0D9U46WbxCDQP1TjpZvEINA/VOOlm8Qg0D9U46WbxCDQP1TjpZvEINA/",
           "dtype": "f8"
          },
          "colorbar": {
           "len": 0.5,
           "title": {
            "text": "Drag Coefficient"
           },
           "y": 0
          },
          "colorscale": [
           [
            0,
            "rgb(0,0,131)"
           ],
           [
            0.2,
            "rgb(0,60,170)"
           ],
           [
            0.4,
            "rgb(5,255,255)"
           ],
           [
            0.6,
            "rgb(255,255,0)"
           ],
           [
            0.8,
            "rgb(250,0,0)"
           ],
           [
            1,
            "rgb(128,0,0)"
           ]
          ],
          "size": 3
         },
         "mode": "markers",
         "type": "scatter3d",
         "x": {
          "bdata": "AAAAAAAAAAAAAAAAAAAAAAAAAAAAAAAAAAAAAAAAAAAAAAAAAAAAAAAAAAAAAAAAAAAAAAAAAAAAAAAAAAAAAAAAAAAAAAAAAAAAAAAAAAAAAAAAAAAAAAAAAAAAAAAAAAAAAAAAAAAAAAAAAAAAAAAAAAAAAAAAAAAAAAAAAAAAAAAAAAAAAAAAAAAAAAAAAAAAAAAAAAAAAAAAAAAAAAAAAAAAAAAAAAAAAAAAAAAAAAAAAAAAAAAAAAAAAAAAAAAAAAAAAAAAAAAAAAAAAAAAAAAAAAAAAAAAAAAAAAAAAAAAAAAAAAAAAAAAAAAAAAAAAAAAAAAAAAAAAAAAAAAAAAAAAAAAAAAAAAAAAAAAAAAAAAAAAAAAAAAAAAAAAAAAAAAAAAAAAAAAAAAAAAAAAAAAAAAAAAAAAAAAAAAAAAAAAAAAAAAAAAAAAAAAAAAAAAAAAAAAAAAAAAAAAAAAAAAAAAAAAAAAAAAAAAAAAAAAAAAAAAAAAAAAAAAAAAAAAAAAAAAAAAAAAAAAAAAAAAAAAAAAAAAAAAAAAAAAAAAAAAAAAAAAAAAAAAAAAAAAAAAAAAAAAAAAAAAAAAAAAAAAAAAAAAAAAAAAAAAAAAAAAAAAAAAAAAAAAAAAAAAAAAAAAAAAAAAAAAAAAAAAAAAAAAAAAAAAAAAAAAAAAAAAAAAAAAAAAAAAAAAAAAAAAAAAAAAAAAAAAAAAAAAAAAAAAAAAAAAAAAAAAAAAAAAAAAAAAAAAAAAAAAAAAAAAAAAAAAAAAAAAAAAAAAAAAAAAAAAAAAAAAAAAAAAAAAAAAAAAAAAAAAAAAAAAAAAAAAAAAAAAAAAAAAAAAAAAAAAAAAAAAAAAAAAAAAAAAAAAAAAAAAAAAAAAAAAAAAAAAAAAAAAAAAAAAAAAAAAAAAAAAAAAAAAAAAAAAAAAAAAAAAAAAAAAAAAAAAAAAAAAAAAAAAAAAAAAAAAAAAAAAAAAAAAAAAAAAAAAAAAAAAAAAAAAAAAAAAAAAAAAAAAAAAAAAAAAAAAAAAAAAAAAAAAAAAAAAAAAAAAAAAAAAAAAAAAAAAAAAAAAAAAAAAAAAAAAAAAAAAAAAAAAAAAAAAAAAAAAAAAAAAAAAAAAAAAAAAAAAAAAAAAAAAAAAAAAAAAAAAAAAAAAAAAAAAAAAAAAAAAAAAAAAAAAAAAAAAAAAAAAAAAAAAAAAAAAAAAAAAAAAAAAAAAAAAAAAAAAAAAAAAAAAAAAAAAAAAAAAAAAAAAAAAAAAAAAAAAAAAAAAAAAAAAAAAAAAAAAAAAAAAAAAAAAAAAAAAAAAAAAAAAAAAAAAAAAAAAAAAAAAAAAAAAAAAAAAAAAAAAAAAAAAAAAAAAAAAAAAAAAAAAAAAAAAAAAAAAAAAAAAAAAAAAAAAAAAAAAAAAAAAAAAAAAAAAAAAAAAAAAAAAAAAAAAAAAAAAAAAAAAAAAAAAAAAAAAAAAAAAAAAAAAAAAAAAAAAAAAAAAAAAAAAAAAAAAAAAAAAAAAAAAAAAAAAAAAAAAAAAAAAAAAAAAAAAAAAAAAAAAAAAAAAAAAAAAAAAAAAAAAAAAAAAAAAAAAAAAAAAAAAAAAAAAAAAAAAAAAAAAAAAAAAAAAAAAAAAAAAAAAAAAAAAAAA==",
          "dtype": "f8"
         },
         "y": {
          "bdata": "AAAAAAAAAAAHAABgHg8uwPf//x9IvT3A/v//f6ISRsADAABApiFNwAEAAMC2BlLAAwAAQMprVcD8////zMBYwPP//79wBlzA7P//H1s9X8ANAABAEzNhwAQAAMCxwGLA9f//n8xHZMANAABAo8hlwA0AAEBxQ2fA9f//n264aMD5//9f0CdqwPz//z/IkWvACwAAYIX2bMD8//8/NFZuwA8AACD/sG/AAAAAAIeDcMAJAACAQyxxwAAAAADH0nHABAAAwCJ3csAAAAAAZxlzwPn//1+juXPABAAAwOZXdMD8//8/P/R0wPn//1+6jnXA/v//H2UndsAAAAAATL52wAQAAMB6U3fABAAAwPzmd8AAAAAA3Xh4wAIAAOAlCXnACQAAgOGXecAJAACAGSV6wP7//x/XsHrA+f//XyM7e8AEAADABsR7wAcAAKCJS3zAAAAAALTRfMAJAACAjVZ9wAkAAIAd2n3A/P//P2tcfsAHAACgfd1+wPn//19bXX/AAgAA4Arcf8D8//8/ySyAwAAAAAD8aoDABAAAwKCogMD8//8/uuWAwPz//z9LIoHAAAAAgFZegcAAAACA3pmBwAQAAMDl1IHA/v//n24PgsAAAACAe0mCwP7//58Og4LA/P//Pyq8gsAAAACA0PSCwAAAAIADLYPA/P//P8Vkg8AEAADAF5yDwAIAAOD80oPAAAAAgHYJhMAAAACAhj+EwP7//58udYTAAAAAgHCqhMACAADgTd+EwAIAAGDIE4XA/v//n+FHhcD+//8fm3uFwAIAAGD2roXAAgAA4PThhcD+//8fmBSGwAAAAIDhRobA/P//P9J4hsAEAADAa6qGwAIAAGCv24bAAgAAYJ4Mh8AAAAAAOj2HwAAAAICDbYfAAAAAAHydh8D+//+fJM2HwAAAAIB+/IfAAgAA4IoriMD+//+fSlqIwAAAAAC/iIjAAAAAAOm2iMAAAACAyeSIwP7//59hEonA/P//P7I/icD8//8/vGyJwAAAAICAmYnAAgAA4P/FicD+//8fO/KJwAAAAAAzHorAAgAAYOhJisAAAAAAXHWKwAQAAMCOoIrA/P//P4HLisD8//8/NPaKwAAAAICoIIvA/v//n95Ki8ACAABg13SLwAAAAICTnovA/v//nxPIi8ACAABgWPGLwAAAAIBiGozAAgAAYDhDjMAAAACA2muMwAAAAIBJlIzABAAAwIW8jMAEAADAj+SMwAAAAABoDI3AAAAAAA80jcD8//8/hVuNwP7//x/Lgo3A/v//H+GpjcD+//+fx9CNwP7//x9/943A/v//HwgejsAAAAAAY0SOwP7//x+Qao7AAAAAAJCQjsAAAAAAY7aOwAAAAIAJ3I7AAAAAAIQBj8AEAADA0iaPwOr//z/2S4/A3///3+5wj8AAAAAAvZWPwAAAAABhuo/AIQAAINvej8AAAAAAlgGQwAsAAOCpE5DACwAAYKklkMAWAADAlDeQwPX//x9sSZDA9f//ny9bkMAAAACA32yQwAsAAOB7fpDACwAA4ASQkMAWAADAeqGQwPX//5/dspDA9f//ny3EkMAAAAAAa9WQwAsAAOCV5pDA6v//P673kMAAAACAtAiRwPX//5+oGZHAFgAAwIoqkcD1//8fWzuRwA==",
          "dtype": "f8"
         },
         "z": {
          "bdata": "AAAAAAAAAAD6//9fSkZmvwEAAGBlloC/9///H0h5kL////8/KEabvwAAAMDzUqS/AAAA4LpGrL8AAABgoryyv////7/i8re/EgAAYOHDvb////+/whbCvw8AAMDrlsW/EQAAYH9hyb8IAAAgn3XNv////5886dC/+///36M707/7//+/p7HVv/z//5/vSti/CQAAgCcH278DAACg/+Xdv/7//x+Wc+C/AAAAoDIF4r/9////sqfjvwEAAKD2WuW/AQAAIN4e57////+fS/PovwIAAKAi2Oq/AQAA4EfN7L8DAAAAodLuv/b//38KdPC/BQAA4MWG8b/3//8fd6Hyv/r//x8TxPO/FAAAII/u9L/2//+/4CD2vw8AACD+Wve/8v//v92c+L/r//9fdub5v/L//x+/N/u/AQAAYK+Q/L/u///fPvH9vxUAAIBlWf+//f//v41kAMAEAADALCABwPr//x+M3wHA/v//P6iiAsAJAADAfWkDwPj//z8JNATACwAAoEcCBcD4//+/NdQFwP3//3/QqQbAAgAAABWDB8AGAABgAGAIwAkAAOCPQAnA9v//v8AkCsD7//9fkAwLwAcAAED89wvABgAAwAHnDMD+//9/ntkNwPf//x/Qzw7A9v//P5TJD8ADAABgdGMQwAEAAKDl4xDA+v//3xxmEcABAAAgGeoRwAMAAEDZbxLA/P//P1z3EsD8//8foYATwAEAAACnCxTA/P///2yYFMD/////8SYVwPv//z81txXABQAA4DVJFsAEAAAA89wWwP///79rchfAAQAAYJ8JGMD8////jKIYwPv//98zPRnA/P//P5PZGcD///9fqncawAIAAIB4FxvA+v//3/y4G8D9//+/NlwcwP3//18lAR3A/v//P8inHcD+//9/HlAewAAAAKAn+h7AAQAA4OKlH8D+///fpykgwAIAAMA2gSDA/f//v53ZIMAAAACA3DIhwP///7/yjCHA/v//P+DnIcD+//9fpEMiwAIAAMA+oCLAAQAAAK/9IsACAACg9FsjwAMAACAPuyPAEQAAQP4aJMALAABgwXskwAoAAEBY3STA+f//X8I/JcDt//9//6IlwAgAACAPBybA+P//3/BrJsAPAABgpNEmwPj//z8pOCfACAAAIH+fJ8Dq//+fpQcowOn//3+ccCjADAAAIHLaKMD+//8fJkUpwBwAAAC4sCnAEgAAYCcdKsAEAADAc4oqwA8AAMCc+CrAFQAAAKJnK8AEAAAAg9crwP///z8/SCzAGgAAgNa5LMAKAABASCwtwOn//x+Uny3ACwAAwLkTLsDl//+/uIguwAEAAMCQ/i7ACwAAYEF1L8Dw//8fyuwvwP3//1+VMjDAAgAAgDFvMMABAAAgOawwwAUAACCs6TDA+f//X4onMcAEAADA02UxwAAAAACIpDHA////36bjMcAAAABgMCMywPz//z8kYzLA+f//X4KjMsAMAACASuQywAUAAIB8JTPACgAAQBhnM8AHAACgHakzwAUAAICM6zPA/P//n2QuNMD0///fpXE0wPf//x9QtTTADQAAQGP5NMAIAAAg3z01wPv//3/DgjXAAAAAYBDINcD0//9/xQ02wPr//7/iUzbAAAAAAGiaNsAGAABAVeE2wA==",
          "dtype": "f8"
         }
        },
        {
         "customdata": {
          "bdata": "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",
          "dtype": "f8",
          "shape": "155, 11"
         },
         "hovertemplate": "Frame %{customdata[0]} (%{customdata[1]:.5f}s)<br>Dist: %{customdata[8]:.2f} m | Drop: %{customdata[9]:.2f} m | Drift: %{customdata[10]:.2f} m<br>Rate: (%{customdata[2]:.2f}, %{customdata[3]:.2f}, %{customdata[4]:.2f}) m/s<br>Velocity: %{customdata[5]:.2f} m/s (%{customdata[6]:.2f} M)<br>Cd: %{customdata[7]:.3f}<extra></extra>",
         "line": {
          "color": {
           "bdata": "AAAAAAAAAAA60L+ZHoEFQN+2bdtWCAVAMD0Cy9CVBECKjietCCkEQCFJkiSJwQNAA5mF++leA0BwSPmezQADQE0l4hfgpgJAYxy21NVQAkDqCCxDav4BQBwgs3BfrwFAJ3udG31jAUAByCzcjxoBQIqOJ61o1ABAkMAypNyQAECcJEmSxE8AQPuVIeX7EABAwPQILMOo/z8pQ8r3rDP/P0AL99N8wv4/qDUIk/1U/j89YBlS/ur9P65nE4pRhP0/xR3o38wg/T84SZIkScD8P5KatwahYvw/prcGYbIH/D93MNnrXK/7P1jK92yCWfs/esle5wYG+z+3MqR8z7T6P8D0CCzDZfo/mlPwcsoY+j8d6N9Mz835P3rAMqS8hPk/a9XuQH89+T+61FW7A/j4P+zr3Og4tPg/VShGLg5y+D9vd6B/czH4P+vQWB9a8vc/b3egf7O09z9AAsuQcnj3PwAJLEOKPfc/BXMKXu4D9z++LNxPk8v2Pz4oRi5ulPY/A6KxPnRe9j8UJnudmyn2P5mLw5ba9fU/pq7aHSjD9T+xAJmFe5H1P/c9m1DMYPU/KgLLkBIx9T/gfpq3RgL1P8YvQGZh1PQ/e9u2bVun9D9SmOx1Lnv0P2znRsfTT/Q/tyl4OUUl9D8ne50bffvzP8xhS1110vM/Otnr3Ciq8z/2bEIxkoLzP+E9m1CsW/M/WZIkSXI18z9pRZWI3w/zP80ypHzv6vI/8sqQ8p3G8j8wNNaH5qLyP350PGnFf/I/4UbHkzZd8j/61iBMNjvyPy911e7AGfI/JOIXINP48T8IuThsadjxP/vfTI+AuPE/GxeHLRWZ8T/SSSuqJHrxP2CDMNmrW/E/vz401qc98T/9ZnoEFiDxP7ycgpfzAvE/VvByCj7m8D90l1Pw8snwP1F9aKwPrvA/9mxCMZKS8D++dgf6d3fwP4RlSPm+XPA/M9+zCWVC8D8MZBbuZyjwP/4up+DFDvA/Zhbup/nq7z96nRsdD7nvPwAAAADAh+8/JkmSJAlX7z9J+Z5N6CbvP6AbHU9a9+4/gDDZ61zI7j9u2FJX7ZnuPyZJkiQJbO4/+gJkFq4+7j8U8QuQ2RHuP8mTVlSJ5e0/fWsQJru57T/jrUGYbI7tP7dwP82bY+0/PTTWh0Y57T+Pw5a6ag/tP5rpEVgG5uw/FLycghe97D+dGLk4rJjsP8bFYUuddOw/Mdnr3OhQ7D8Gk73OjS3sP4MzPQKLCuw/3RqEyd7n6z/307w1iMXrP7EJxciFo+s/iZGLw9aB6z8ggWVIeWDrPylDyvdsP+s/+jfTI7Ae6z+6n+atQf7qP91P89Yg3uo/kYhfgEy+6j90P81bw57qP+BJK6qEf+o/ep0bHY9g6j+vD4314UHqPwCWIeV7I+o/OptQjFwF6j9GyvdsgufpPylDyvfsyek/iftp3pqs6T8GXk7Bi4/pP+mq3YG+cuk/VyJ+ATJW6T9g5OKw5TnpP4nG+tDYHek/9wgsQwoC6T8ggWVIeeboPxpPWlEly+g/wP00bw2w6D+GYuTiMJXoP9dSV+2Oeug/1O5A/yZg6D+sdgf690XoPxdVIn4BLOg/jF+AzEIS6D8gttRVu/jnPwOZhftp3+c/RJjsdU7G5z8DZBbuZ63nPw==",
           "dtype": "f8"
          },
          "colorbar": {
           "len": 0.5,
           "title": {
            "text": "Mach Number"
           },
           "y": 0.5
          },
          "colorscale": [
           [
            0,
            "#2f9"
           ],
           [
            0.3720173535791758,
            "#4af"
           ],
           [
            0.3720173535791758,
            "#f00"
           ],
           [
            1,
            "#ff0"
           ]
          ],
          "width": 5
         },
         "mode": "lines",
         "name": "Position",
         "type": "scatter3d",
         "x": {
          "bdata": "AAAAAAAAAAAAAAAAAAAAAAAAAAAAAAAAAAAAAAAAAAAAAAAAAAAAAAAAAAAAAAAAAAAAAAAAAAAAAAAAAAAAAAAAAAAAAAAAAAAAAAAAAAAAAAAAAAAAAAAAAAAAAAAAAAAAAAAAAAAAAAAAAAAAAAAAAAAAAAAAAAAAAAAAAAA=",
          "dtype": "f8"
         },
         "y": {
          "bdata": "AAAAAAAAAAANAABAEzNhwA8AACD/sG/A/v//H2UndsAEAADABsR7wAAAAAD8aoDA/P//Pyq8gsACAADgTd+EwAIAAGCv24bAAAAAAOm2iMAAAAAAXHWKwAAAAIBiGozA/v//H+GpjcAEAADA0iaPwPX//x9sSZDA6v//P673kMA=",
          "dtype": "f8"
         },
         "z": {
          "bdata": "AAAAAAAAAAD///+/whbCv/7//x+Wc+C/BQAA4MWG8b/u///fPvH9v/3//3/QqQbA9v//P5TJD8D/////8SYVwAIAAIB4FxvA/f//v53ZIMALAABgwXskwOn//3+ccCjAGgAAgNa5LMABAAAgOawwwAUAAIB8JTPAAAAAYBDINcA=",
          "dtype": "f8"
         }
        }
       ],
       "layout": {
        "font": {
         "color": "white"
        },
        "margin": {
         "b": 0,
         "l": 0,
         "r": 0,
         "t": 10
        },
        "paper_bgcolor": "#333",
        "plot_bgcolor": "#444",
        "scene": {
         "aspectmode": "manual",
         "aspectratio": {
          "x": 1,
          "y": 2.5,
          "z": 0.5
         },
         "camera": {
          "eye": {
           "x": -1.5,
           "y": 0,
           "z": 0
          }
         },
         "xaxis": {
          "backgroundcolor": "#444",
          "color": "white",
          "gridcolor": "#666",
          "showbackground": true,
          "zerolinecolor": "#666"
         },
         "yaxis": {
          "backgroundcolor": "#444",
          "color": "white",
          "gridcolor": "#666",
          "showbackground": true,
          "zerolinecolor": "#666"
         },
         "zaxis": {
          "backgroundcolor": "#444",
          "color": "white",
          "gridcolor": "#666",
          "showbackground": true,
          "zerolinecolor": "#666"
         }
        },
        "template": {
         "data": {
          "bar": [
           {
            "error_x": {
             "color": "#2a3f5f"
            },
            "error_y": {
             "color": "#2a3f5f"
            },
            "marker": {
             "line": {
              "color": "#E5ECF6",
              "width": 0.5
             },
             "pattern": {
              "fillmode": "overlay",
              "size": 10,
              "solidity": 0.2
             }
            },
            "type": "bar"
           }
          ],
          "barpolar": [
           {
            "marker": {
             "line": {
              "color": "#E5ECF6",
              "width": 0.5
             },
             "pattern": {
              "fillmode": "overlay",
              "size": 10,
              "solidity": 0.2
             }
            },
            "type": "barpolar"
           }
          ],
          "carpet": [
           {
            "aaxis": {
             "endlinecolor": "#2a3f5f",
             "gridcolor": "white",
             "linecolor": "white",
             "minorgridcolor": "white",
             "startlinecolor": "#2a3f5f"
            },
            "baxis": {
             "endlinecolor": "#2a3f5f",
             "gridcolor": "white",
             "linecolor": "white",
             "minorgridcolor": "white",
             "startlinecolor": "#2a3f5f"
            },
            "type": "carpet"
           }
          ],
          "choropleth": [
           {
            "colorbar": {
             "outlinewidth": 0,
             "ticks": ""
            },
            "type": "choropleth"
           }
          ],
          "contour": [
           {
            "colorbar": {
             "outlinewidth": 0,
             "ticks": ""
            },
            "colorscale": [
             [
              0,
              "#0d0887"
             ],
             [
              0.1111111111111111,
              "#46039f"
             ],
             [
              0.2222222222222222,
              "#7201a8"
             ],
             [
              0.3333333333333333,
              "#9c179e"
             ],
             [
              0.4444444444444444,
              "#bd3786"
             ],
             [
              0.5555555555555556,
              "#d8576b"
             ],
             [
              0.6666666666666666,
              "#ed7953"
             ],
             [
              0.7777777777777778,
              "#fb9f3a"
             ],
             [
              0.8888888888888888,
              "#fdca26"
             ],
             [
              1,
              "#f0f921"
             ]
            ],
            "type": "contour"
           }
          ],
          "contourcarpet": [
           {
            "colorbar": {
             "outlinewidth": 0,
             "ticks": ""
            },
            "type": "contourcarpet"
           }
          ],
          "heatmap": [
           {
            "colorbar": {
             "outlinewidth": 0,
             "ticks": ""
            },
            "colorscale": [
             [
              0,
              "#0d0887"
             ],
             [
              0.1111111111111111,
              "#46039f"
             ],
             [
              0.2222222222222222,
              "#7201a8"
             ],
             [
              0.3333333333333333,
              "#9c179e"
             ],
             [
              0.4444444444444444,
              "#bd3786"
             ],
             [
              0.5555555555555556,
              "#d8576b"
             ],
             [
              0.6666666666666666,
              "#ed7953"
             ],
             [
              0.7777777777777778,
              "#fb9f3a"
             ],
             [
              0.8888888888888888,
              "#fdca26"
             ],
             [
              1,
              "#f0f921"
             ]
            ],
            "type": "heatmap"
           }
          ],
          "histogram": [
           {
            "marker": {
             "pattern": {
              "fillmode": "overlay",
              "size": 10,
              "solidity": 0.2
             }
            },
            "type": "histogram"
           }
          ],
          "histogram2d": [
           {
            "colorbar": {
             "outlinewidth": 0,
             "ticks": ""
            },
            "colorscale": [
             [
              0,
              "#0d0887"
             ],
             [
              0.1111111111111111,
              "#46039f"
             ],
             [
              0.2222222222222222,
              "#7201a8"
             ],
             [
              0.3333333333333333,
              "#9c179e"
             ],
             [
              0.4444444444444444,
              "#bd3786"
             ],
             [
              0.5555555555555556,
              "#d8576b"
             ],
             [
              0.6666666666666666,
              "#ed7953"
             ],
             [
              0.7777777777777778,
              "#fb9f3a"
             ],
             [
              0.8888888888888888,
              "#fdca26"
             ],
             [
              1,
              "#f0f921"
             ]
            ],
            "type": "histogram2d"
           }
          ],
          "histogram2dcontour": [
           {
            "colorbar": {
             "outlinewidth": 0,
             "ticks": ""
            },
            "colorscale": [
             [
              0,
              "#0d0887"
             ],
             [
              0.1111111111111111,
              "#46039f"
             ],
             [
              0.2222222222222222,
              "#7201a8"
             ],
             [
              0.3333333333333333,
              "#9c179e"
             ],
             [
              0.4444444444444444,
              "#bd3786"
             ],
             [
              0.5555555555555556,
              "#d8576b"
             ],
             [
              0.6666666666666666,
              "#ed7953"
             ],
             [
              0.7777777777777778,
              "#fb9f3a"
             ],
             [
              0.8888888888888888,
              "#fdca26"
             ],
             [
              1,
              "#f0f921"
             ]
            ],
            "type": "histogram2dcontour"
           }
          ],
          "mesh3d": [
           {
            "colorbar": {
             "outlinewidth": 0,
             "ticks": ""
            },
            "type": "mesh3d"
           }
          ],
          "parcoords": [
           {
            "line": {
             "colorbar": {
              "outlinewidth": 0,
              "ticks": ""
             }
            },
            "type": "parcoords"
           }
          ],
          "pie": [
           {
            "automargin": true,
            "type": "pie"
           }
          ],
          "scatter": [
           {
            "fillpattern": {
             "fillmode": "overlay",
             "size": 10,
             "solidity": 0.2
            },
            "type": "scatter"
           }
          ],
          "scatter3d": [
           {
            "line": {
             "colorbar": {
              "outlinewidth": 0,
              "ticks": ""
             }
            },
            "marker": {
             "colorbar": {
              "outlinewidth": 0,
              "ticks": ""
             }
            },
            "type": "scatter3d"
           }
          ],
          "scattercarpet": [
           {
            "marker": {
             "colorbar": {
              "outlinewidth": 0,
              "ticks": ""
             }
            },
            "type": "scattercarpet"
           }
          ],
          "scattergeo": [
           {
            "marker": {
             "colorbar": {
              "outlinewidth": 0,
              "ticks": ""
             }
            },
            "type": "scattergeo"
           }
          ],
          "scattergl": [
           {
            "marker": {
             "colorbar": {
              "outlinewidth": 0,
              "ticks": ""
             }
            },
            "type": "scattergl"
           }
          ],
          "scattermap": [
           {
            "marker": {
             "colorbar": {
              "outlinewidth": 0,
              "ticks": ""
             }
            },
            "type": "scattermap"
           }
          ],
          "scattermapbox": [
           {
            "marker": {
             "colorbar": {
              "outlinewidth": 0,
              "ticks": ""
             }
            },
            "type": "scattermapbox"
           }
          ],
          "scatterpolar": [
           {
            "marker": {
             "colorbar": {
              "outlinewidth": 0,
              "ticks": ""
             }
            },
            "type": "scatterpolar"
           }
          ],
          "scatterpolargl": [
           {
            "marker": {
             "colorbar": {
              "outlinewidth": 0,
              "ticks": ""
             }
            },
            "type": "scatterpolargl"
           }
          ],
          "scatterternary": [
           {
            "marker": {
             "colorbar": {
              "outlinewidth": 0,
              "ticks": ""
             }
            },
            "type": "scatterternary"
           }
          ],
          "surface": [
           {
            "colorbar": {
             "outlinewidth": 0,
             "ticks": ""
            },
            "colorscale": [
             [
              0,
              "#0d0887"
             ],
             [
              0.1111111111111111,
              "#46039f"
             ],
             [
              0.2222222222222222,
              "#7201a8"
             ],
             [
              0.3333333333333333,
              "#9c179e"
             ],
             [
              0.4444444444444444,
              "#bd3786"
             ],
             [
              0.5555555555555556,
              "#d8576b"
             ],
             [
              0.6666666666666666,
              "#ed7953"
             ],
             [
              0.7777777777777778,
              "#fb9f3a"
             ],
             [
              0.8888888888888888,
              "#fdca26"
             ],
             [
              1,
              "#f0f921"
             ]
            ],
            "type": "surface"
           }
          ],
          "table": [
           {
            "cells": {
             "fill": {
              "color": "#EBF0F8"
             },
             "line": {
              "color": "white"
             }
            },
            "header": {
             "fill": {
              "color": "#C8D4E3"
             },
             "line": {
              "color": "white"
             }
            },
            "type": "table"
           }
          ]
         },
         "layout": {
          "annotationdefaults": {
           "arrowcolor": "#2a3f5f",
           "arrowhead": 0,
           "arrowwidth": 1
          },
          "autotypenumbers": "strict",
          "coloraxis": {
           "colorbar": {
            "outlinewidth": 0,
            "ticks": ""
           }
          },
          "colorscale": {
           "diverging": [
            [
             0,
             "#8e0152"
            ],
            [
             0.1,
             "#c51b7d"
            ],
            [
             0.2,
             "#de77ae"
            ],
            [
             0.3,
             "#f1b6da"
            ],
            [
             0.4,
             "#fde0ef"
            ],
            [
             0.5,
             "#f7f7f7"
            ],
            [
             0.6,
             "#e6f5d0"
            ],
            [
             0.7,
             "#b8e186"
            ],
            [
             0.8,
             "#7fbc41"
            ],
            [
             0.9,
             "#4d9221"
            ],
            [
             1,
             "#276419"
            ]
           ],
           "sequential": [
            [
             0,
             "#0d0887"
            ],
            [
             0.1111111111111111,
             "#46039f"
            ],
            [
             0.2222222222222222,
             "#7201a8"
            ],
            [
             0.3333333333333333,
             "#9c179e"
            ],
            [
             0.4444444444444444,
             "#bd3786"
            ],
            [
             0.5555555555555556,
             "#d8576b"
            ],
            [
             0.6666666666666666,
             "#ed7953"
            ],
            [
             0.7777777777777778,
             "#fb9f3a"
            ],
            [
             0.8888888888888888,
             "#fdca26"
            ],
            [
             1,
             "#f0f921"
            ]
           ],
           "sequentialminus": [
            [
             0,
             "#0d0887"
            ],
            [
             0.1111111111111111,
             "#46039f"
            ],
            [
             0.2222222222222222,
             "#7201a8"
            ],
            [
             0.3333333333333333,
             "#9c179e"
            ],
            [
             0.4444444444444444,
             "#bd3786"
            ],
            [
             0.5555555555555556,
             "#d8576b"
            ],
            [
             0.6666666666666666,
             "#ed7953"
            ],
            [
             0.7777777777777778,
             "#fb9f3a"
            ],
            [
             0.8888888888888888,
             "#fdca26"
            ],
            [
             1,
             "#f0f921"
            ]
           ]
          },
          "colorway": [
           "#636efa",
           "#EF553B",
           "#00cc96",
           "#ab63fa",
           "#FFA15A",
           "#19d3f3",
           "#FF6692",
           "#B6E880",
           "#FF97FF",
           "#FECB52"
          ],
          "font": {
           "color": "#2a3f5f"
          },
          "geo": {
           "bgcolor": "white",
           "lakecolor": "white",
           "landcolor": "#E5ECF6",
           "showlakes": true,
           "showland": true,
           "subunitcolor": "white"
          },
          "hoverlabel": {
           "align": "left"
          },
          "hovermode": "closest",
          "mapbox": {
           "style": "light"
          },
          "paper_bgcolor": "white",
          "plot_bgcolor": "#E5ECF6",
          "polar": {
           "angularaxis": {
            "gridcolor": "white",
            "linecolor": "white",
            "ticks": ""
           },
           "bgcolor": "#E5ECF6",
           "radialaxis": {
            "gridcolor": "white",
            "linecolor": "white",
            "ticks": ""
           }
          },
          "scene": {
           "xaxis": {
            "backgroundcolor": "#E5ECF6",
            "gridcolor": "white",
            "gridwidth": 2,
            "linecolor": "white",
            "showbackground": true,
            "ticks": "",
            "zerolinecolor": "white"
           },
           "yaxis": {
            "backgroundcolor": "#E5ECF6",
            "gridcolor": "white",
            "gridwidth": 2,
            "linecolor": "white",
            "showbackground": true,
            "ticks": "",
            "zerolinecolor": "white"
           },
           "zaxis": {
            "backgroundcolor": "#E5ECF6",
            "gridcolor": "white",
            "gridwidth": 2,
            "linecolor": "white",
            "showbackground": true,
            "ticks": "",
            "zerolinecolor": "white"
           }
          },
          "shapedefaults": {
           "line": {
            "color": "#2a3f5f"
           }
          },
          "ternary": {
           "aaxis": {
            "gridcolor": "white",
            "linecolor": "white",
            "ticks": ""
           },
           "baxis": {
            "gridcolor": "white",
            "linecolor": "white",
            "ticks": ""
           },
           "bgcolor": "#E5ECF6",
           "caxis": {
            "gridcolor": "white",
            "linecolor": "white",
            "ticks": ""
           }
          },
          "title": {
           "x": 0.05
          },
          "xaxis": {
           "automargin": true,
           "gridcolor": "white",
           "linecolor": "white",
           "ticks": "",
           "title": {
            "standoff": 15
           },
           "zerolinecolor": "white",
           "zerolinewidth": 2
          },
          "yaxis": {
           "automargin": true,
           "gridcolor": "white",
           "linecolor": "white",
           "ticks": "",
           "title": {
            "standoff": 15
           },
           "zerolinecolor": "white",
           "zerolinewidth": 2
          }
         }
        }
       }
      }
     },
     "metadata": {},
     "output_type": "display_data"
    }
   ],
   "source": [
    "fig = go.Figure()\n",
    "\n",
    "marker_step = 10\n",
    "marker_indices = df.index[::marker_step]\n",
    "mach_min = df['projectile.mach_number'].min()\n",
    "mach_max = df['projectile.mach_number'].max()\n",
    "mach_threshold = 1.0\n",
    "mach_threshold_norm = (mach_threshold - mach_min) / (mach_max - mach_min)\n",
    "mach_colorscale = [\n",
    "  [0.0, '#2f9'],\n",
    "  [mach_threshold_norm, '#4af'],\n",
    "  [mach_threshold_norm, '#f00'],\n",
    "  [1.0, '#ff0']\n",
    "]\n",
    "\n",
    "fig.add_trace(go.Scatter3d(\n",
    "  x=df['projectile.position.x'],\n",
    "  z=df['projectile.position.y'],\n",
    "  y=df['projectile.position.z'],\n",
    "  mode='markers',\n",
    "  marker=dict(\n",
    "    size=3,\n",
    "    color=df['projectile.current_drag_coef'][2:],\n",
    "    colorscale='Jet',\n",
    "    colorbar=dict(\n",
    "      title='Drag Coefficient',\n",
    "      y=0.0,\n",
    "      len=0.5\n",
    "    )\n",
    "  )\n",
    "))\n",
    "fig.add_trace(go.Scatter3d(\n",
    "  x=df.loc[marker_indices, 'projectile.position.x'],\n",
    "  z=df.loc[marker_indices, 'projectile.position.y'],\n",
    "  y=df.loc[marker_indices, 'projectile.position.z'],\n",
    "  mode='lines',\n",
    "  line=dict(\n",
    "    width=5,\n",
    "    color=df['projectile.mach_number'],\n",
    "    colorscale=mach_colorscale,\n",
    "    colorbar=dict(\n",
    "      title='Mach Number',\n",
    "      y=0.5,\n",
    "      len=0.5\n",
    "    ),\n",
    "  ),\n",
    "  name='Position',\n",
    "  customdata=pd.concat([\n",
    "    df[[\n",
    "    'timing.frame',\n",
    "    'projectile.flight_time',\n",
    "    'projectile.velocity.z',  # Rate Z\n",
    "    'projectile.velocity.y',  # Rate Y\n",
    "    'projectile.velocity.x',  # Rate X\n",
    "    'projectile.velocity.length',  # Vel m/s\n",
    "    'projectile.mach_number',      # Vel M\n",
    "    'projectile.current_drag_coef' # Cd\n",
    "  ]],\n",
    "    df[[\n",
    "      'projectile.position.z',  # Dist (Z)\n",
    "      'projectile.position.y',  # Drop (Y)\n",
    "      'projectile.position.x',  # Drift (X)\n",
    "    ]].abs()\n",
    "  ], axis=1),\n",
    "  hovertemplate=(\n",
    "    \"Frame %{customdata[0]} (%{customdata[1]:.5f}s)<br>\" +\n",
    "    \"Dist: %{customdata[8]:.2f} m | Drop: %{customdata[9]:.2f} m | Drift: %{customdata[10]:.2f} m<br>\" +\n",
    "    \"Rate: (%{customdata[2]:.2f}, %{customdata[3]:.2f}, %{customdata[4]:.2f}) m/s<br>\" +\n",
    "    \"Velocity: %{customdata[5]:.2f} m/s (%{customdata[6]:.2f} M)<br>\" +\n",
    "    \"Cd: %{customdata[7]:.3f}\" +\n",
    "    \"<extra></extra>\"\n",
    "  )\n",
    "))\n",
    "\n",
    "\n",
    "scene_ax = dict(\n",
    "  backgroundcolor='#444',\n",
    "  gridcolor='#666',\n",
    "  showbackground=True,\n",
    "  zerolinecolor='#666',\n",
    "  color='white'\n",
    ")\n",
    "fig.update_layout(\n",
    "  paper_bgcolor='#333',\n",
    "  plot_bgcolor='#444',\n",
    "  font=dict(\n",
    "    color='white'\n",
    "  ),\n",
    "  scene_camera=dict(\n",
    "    eye=dict(x=-1.5, y=0.0, z=0.0)  # положение \"глаза камеры\"\n",
    "  ),\n",
    "  scene=dict(\n",
    "    aspectmode='manual',\n",
    "    aspectratio=dict(x=1.0, y=2.5, z=0.5),\n",
    "    xaxis=scene_ax,\n",
    "    yaxis=scene_ax,\n",
    "    zaxis=scene_ax\n",
    "  ),\n",
    "  margin=dict(l=0, r=0, b=0, t=10)\n",
    ")"
   ]
  },
  {
   "cell_type": "code",
   "execution_count": null,
   "id": "e92b5dbe",
   "metadata": {},
   "outputs": [],
   "source": []
  }
 ],
 "metadata": {
  "kernelspec": {
   "display_name": ".venv",
   "language": "python",
   "name": "python3"
  },
  "language_info": {
   "codemirror_mode": {
    "name": "ipython",
    "version": 3
   },
   "file_extension": ".py",
   "mimetype": "text/x-python",
   "name": "python",
   "nbconvert_exporter": "python",
   "pygments_lexer": "ipython3",
   "version": "3.13.3"
  }
 },
 "nbformat": 4,
 "nbformat_minor": 5
}
