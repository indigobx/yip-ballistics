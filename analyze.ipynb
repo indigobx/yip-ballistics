{
 "cells": [
  {
   "cell_type": "code",
   "execution_count": 1,
   "id": "f9a3a90d",
   "metadata": {},
   "outputs": [],
   "source": [
    "import os\n",
    "import json\n",
    "import pandas as pd\n",
    "import plotly.graph_objects as go"
   ]
  },
  {
   "cell_type": "code",
   "execution_count": 2,
   "id": "9b676f37",
   "metadata": {},
   "outputs": [],
   "source": [
    "data_dir = './data_dump'\n",
    "pd.set_option('display.max_columns', None)"
   ]
  },
  {
   "cell_type": "code",
   "execution_count": 3,
   "id": "f6ba9368",
   "metadata": {},
   "outputs": [],
   "source": [
    "for fn in os.listdir(data_dir):\n",
    "  with open(os.path.join(data_dir, fn), 'r') as f:\n",
    "    data = json.load(f)\n",
    "    df_raw = pd.json_normalize(data)"
   ]
  },
  {
   "cell_type": "code",
   "execution_count": 4,
   "id": "5ac101df",
   "metadata": {},
   "outputs": [
    {
     "data": {
      "text/plain": [
       "{'medium.base_density': np.float64(1.225),\n",
       " 'medium.drag_coef': np.float64(0.47),\n",
       " 'medium.drag_model': 'quadratic',\n",
       " 'medium.molar_mass': np.float64(0.029),\n",
       " 'medium.rha_coef': np.float64(1e-05),\n",
       " 'medium.speed_of_sound': np.float64(343.0),\n",
       " 'medium.type': 'gas',\n",
       " 'medium.viscosity': np.float64(1.81e-05),\n",
       " 'naming.ammo_name': '5.56x45_M855',\n",
       " 'naming.projectile_uid': 'proj_ZAuKc4a2',\n",
       " 'naming.weapon_name': 'SCAR_L_CQC',\n",
       " 'projectile.ammo': '<Resource#-9223371996220357260>',\n",
       " 'projectile.caliber': np.float64(5.7),\n",
       " 'projectile.core_caliber': np.float64(5.4),\n",
       " 'projectile.core_hardness': np.float64(0.6),\n",
       " 'projectile.core_mass': np.float64(2.0),\n",
       " 'projectile.cross_section': np.float64(2.55175863287831e-05),\n",
       " 'projectile.drag_coef': np.float64(0.28),\n",
       " 'projectile.fragmentation_chance': np.float64(0.1),\n",
       " 'projectile.fragmentation_count': np.int64(0),\n",
       " 'projectile.fragments_max': np.int64(4),\n",
       " 'projectile.fragments_min': np.int64(2),\n",
       " 'projectile.impact_count': np.int64(0),\n",
       " 'projectile.kind': 'normal',\n",
       " 'projectile.length': np.float64(23.0),\n",
       " 'projectile.length_diameter_ratio': np.float64(0.0),\n",
       " 'projectile.magnus_effect_factor': np.float64(0.0),\n",
       " 'projectile.mass': np.float64(4.1),\n",
       " 'projectile.penetration_count': np.int64(0),\n",
       " 'projectile.ricochet_count': np.int64(0),\n",
       " 'projectile.ricochet_max_angle': np.float64(68.0),\n",
       " 'projectile.ricochet_min_angle': np.float64(12.0),\n",
       " 'projectile.spin_decay_rate': np.float64(0.998),\n",
       " 'projectile.stability_factor': np.float64(1.0),\n",
       " 'projectile.ttl': np.float64(3.419),\n",
       " 'projectile.tumble_time': np.float64(0.0),\n",
       " 'projectile.uid': 'proj_ZAuKc4a2',\n",
       " 'projectile.weapon': '<Resource#-9223371996136471184>',\n",
       " 'timing.delta': np.float64(0.0166666666666667)}"
      ]
     },
     "execution_count": 4,
     "metadata": {},
     "output_type": "execute_result"
    }
   ],
   "source": [
    "static_data = {}\n",
    "static_cols = ['angular_velocity', 'position', 'velocity', 'rotation']\n",
    "for col in df_raw.columns:\n",
    "  if len(df_raw[col].unique()) == 1 and all(stc not in col for stc in static_cols):\n",
    "    static_data[col] = df_raw[col].unique()[0]\n",
    "df = df_raw.drop(list(static_data.keys()), axis=1)\n",
    "static_data"
   ]
  },
  {
   "cell_type": "code",
   "execution_count": 36,
   "id": "a55719f0",
   "metadata": {},
   "outputs": [
    {
     "data": {
      "text/plain": [
       "Index(['projectile.angular_velocity.x', 'projectile.angular_velocity.y',\n",
       "       'projectile.angular_velocity.z', 'projectile.current_drag_coef',\n",
       "       'projectile.effective_cross_section', 'projectile.flight_time',\n",
       "       'projectile.mach_number', 'projectile.position.x',\n",
       "       'projectile.position.y', 'projectile.position.z',\n",
       "       'projectile.rotation.x.x', 'projectile.rotation.x.y',\n",
       "       'projectile.rotation.x.z', 'projectile.rotation.y.x',\n",
       "       'projectile.rotation.y.y', 'projectile.rotation.y.z',\n",
       "       'projectile.rotation.z.x', 'projectile.rotation.z.y',\n",
       "       'projectile.rotation.z.z', 'projectile.state', 'projectile.velocity.x',\n",
       "       'projectile.velocity.y', 'projectile.velocity.z', 'timing.exec_ratio',\n",
       "       'timing.exec_time', 'timing.frame', 'timing.time',\n",
       "       'projectile.velocity.length', 'projectile.position.length'],\n",
       "      dtype='object')"
      ]
     },
     "execution_count": 36,
     "metadata": {},
     "output_type": "execute_result"
    }
   ],
   "source": [
    "df['projectile.velocity.length'] = (df['projectile.velocity.x']**2 + df['projectile.velocity.y']**2 + df['projectile.velocity.z']**2)**0.5\n",
    "df['projectile.position.length'] = (df['projectile.position.x']**2 + df['projectile.position.y']**2 + df['projectile.position.z']**2)**0.5\n",
    "df.columns"
   ]
  },
  {
   "cell_type": "code",
   "execution_count": 93,
   "id": "e4e3b77b",
   "metadata": {},
   "outputs": [
    {
     "data": {
      "application/vnd.plotly.v1+json": {
       "config": {
        "plotlyServerURL": "https://plot.ly"
       },
       "data": [
        {
         "customdata": {
          "bdata": "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",
          "dtype": "f8",
          "shape": "60, 11"
         },
         "hovertemplate": "Frame %{customdata[0]} (%{customdata[1]:.5f}s)<br>Dist: %{customdata[8]:.2f} m | Drop: %{customdata[9]:.2f} m | Drift: %{customdata[10]:.2f} m<br>Rate: (%{customdata[2]:.2f}, %{customdata[3]:.2f}, %{customdata[4]:.2f}) m/s<br>Velocity: %{customdata[5]:.2f} m/s (%{customdata[6]:.2f} M)<br>Cd: %{customdata[7]:.3f}<extra></extra>",
         "line": {
          "color": {
           "bdata": "AAAAAAAAAAA60L+ZHoEFQN+2bdtWCAVAMD0Cy9CVBECKjietCCkEQCFJkiSJwQNAA5mF++leA0BwSPmezQADQE0l4hfgpgJAYxy21NVQAkAACSxDav4BQBwgs3BfrwFAJ3udG31jAUAByCzcjxoBQIqOJ61o1ABAkMAypNyQAECcJEmSxE8AQPuVIeX7EABAwPQILMOo/z8pQ8r3rDP/P0AL99N8wv4/qDUIk/1U/j89YBlS/ur9P65nE4pRhP0/xR3o38wg/T84SZIkScD8P5KatwahYvw/prcGYbIH/D93MNnrXK/7P1jK92yCWfs/esle5wYG+z+3MqR8z7T6P8D0CCzDZfo/mlPwcsoY+j8d6N9Mz835P3rAMqS8hPk/a9XuQH89+T+61FW7A/j4P+zr3Og4tPg/VShGLg5y+D9vd6B/czH4P+vQWB9a8vc/b3egf7O09z9AAsuQcnj3PwAJLEOKPfc/BXMKXu4D9z++LNxPk8v2Pz4oRi5ulPY/A6KxPnRe9j8UJnudmyn2P5mLw5ba9fU/pq7aHSjD9T+xAJmFe5H1P/c9m1DMYPU/KgLLkBIx9T/gfpq3RgL1P8YvQGZh1PQ/e9u2bVun9D9SmOx1Lnv0P2znRsfTT/Q/",
           "dtype": "f8"
          },
          "colorbar": {
           "len": 0.5,
           "title": {
            "text": "Mach Number"
           },
           "y": 0.5
          },
          "colorscale": [
           [
            0,
            "#2f9"
           ],
           [
            0.3720173535791758,
            "#4af"
           ],
           [
            0.3720173535791758,
            "#f00"
           ],
           [
            1,
            "#ff0"
           ]
          ],
          "width": 4
         },
         "marker": {
          "color": {
           "bdata": "AAAAAAAAAABU46WbxCDQPxlVvD5P+Nc/MzMzMzPC1z/HVg+15I7XP6LfQsAoXtc/bxKDwMov1z9OkC8GnAPXP36hbaVy2dY/erJ1ACmx1j+yi3o8nYrWP3pBKqGwZdY/96fhbUdC1j+O86xuSCDWP3F8+5uc/9U/vQ4g5S7g1T9FgTcQ7MHVP/YoXI/CpNU/zTJAAKKI1T+jAy2Xe23VPyq/al5BU9U/B+6ltuY51T9ZbnC2XyHVP7xGdGqhCdU/dvbzn6Hy1D9wUhfaVtzUPx+F61G4xtQ/XBh9q72x1D+1671AX53UPxY+n9aVidQ/JNHEp1p21D9ZDDhvp2PUPxcqNSh2UdQ/JsT3OME/1D+WjVRdgy7UP8BSuaa3HdQ/hI8TXFkN1D9sH1AvZP3TP+K6qMfT7dM/FcC8TKTe0z+e9kQG0s/TP4SPE1xZwdM/57HgADez0z8YqBeyZ6XTP3vVvILol9M/q53UhbaK0z8vgon+zn3TP8n/eFUvcdM/LI6zGNVk0z8XyPzgvVjTP7RmPnfnTNM/JkYVr09B0z+oPZGB9DXTP69qKP3TKtM/4Q0EO+wf0z9i0WZ0OxXTP6Wl+fe/CtM/KJ4YH3gA0z+q8dJNYvbSPw/1XRh97NI/",
           "dtype": "f8"
          },
          "colorbar": {
           "len": 0.5,
           "title": {
            "text": "Drag Coefficient"
           },
           "y": 0
          },
          "colorscale": [
           [
            0,
            "rgb(0,0,131)"
           ],
           [
            0.2,
            "rgb(0,60,170)"
           ],
           [
            0.4,
            "rgb(5,255,255)"
           ],
           [
            0.6,
            "rgb(255,255,0)"
           ],
           [
            0.8,
            "rgb(250,0,0)"
           ],
           [
            1,
            "rgb(128,0,0)"
           ]
          ],
          "size": 3
         },
         "mode": "lines+markers",
         "name": "Position",
         "type": "scatter3d",
         "x": {
          "bdata": "AAAAAAAAAAAAAAAAAAAAAAAAAAAAAAAAAAAAAAAAAAAAAAAAAAAAAAAAAAAAAAAAAAAAAAAAAAAAAAAAAAAAAAAAAAAAAAAAAAAAAAAAAAAAAAAAAAAAAAAAAAAAAAAAAAAAAAAAAAAAAAAAAAAAAAAAAAAAAAAAAAAAAAAAAAAAAAAAAAAAAAAAAAAAAAAAAAAAAAAAAAAAAAAAAAAAAAAAAAAAAAAAAAAAAAAAAAAAAAAAAAAAAAAAAAAAAAAAAAAAAAAAAAAAAAAAAAAAAAAAAAAAAAAAAAAAAAAAAAAAAAAAAAAAAAAAAAAAAAAAAAAAAAAAAAAAAAAAAAAAAAAAAAAAAAAAAAAAAAAAAAAAAAAAAAAAAAAAAAAAAAAAAAAAAAAAAAAAAAAAAAAAAAAAAAAAAAAAAAAAAAAAAAAAAAAAAAAAAAAAAAAAAAAAAAAAAAAAAAAAAAAAAAAAAAAAAAAAAAAAAAAAAAAAAAAAAAAAAAAAAAAAAAAAAAAAAAAAAAAAAAAAAAAAAAAAAAAAAAAAAAAAAAAAAAAAAAAAAAAAAAAAAAAAAAAAAAAAAAAAAAAAAAAAAAAAAAAAAAAAAAAAAAAAAAAAAAAAAAAAAAAAAAAAAAAAAAAAAAAA",
          "dtype": "f8"
         },
         "y": {
          "bdata": "AAAAAAAAAAAHAABgHg8uwPf//x9IvT3A/v//f6ISRsADAABApiFNwAEAAMC2BlLAAwAAQMprVcAEAAAAzcBYwPP//79wBlzA7P//H1s9X8ANAABAEzNhwAQAAMCxwGLA9f//n8xHZMANAABAo8hlwA0AAEBxQ2fA9f//n264aMD5//9f0CdqwPz//z/IkWvACwAAYIX2bMD8//8/NFZuwA8AACD/sG/AAAAAAIeDcMAJAACAQyxxwAAAAADH0nHABAAAwCJ3csAAAAAAZxlzwPn//1+juXPABAAAwOZXdMD8//8/P/R0wPn//1+6jnXA/v//H2UndsAAAAAATL52wAQAAMB6U3fABAAAwPzmd8AAAAAA3Xh4wAIAAOAlCXnACQAAgOGXecAJAACAGSV6wP7//x/XsHrA+f//XyM7e8AEAADABsR7wAcAAKCJS3zAAAAAALTRfMAJAACAjVZ9wAkAAIAd2n3A/P//P2tcfsAHAACgfd1+wPn//19bXX/AAgAA4Arcf8AEAABAySyAwAAAAAD8aoDABAAAwKCogMAEAABAuuWAwAQAAEBLIoHAAAAAgFZegcAAAACA3pmBwAQAAMDl1IHA/v//n24PgsAAAACAe0mCwP7//58Og4LA",
          "dtype": "f8"
         },
         "z": {
          "bdata": "AAAAAAAAAAD6//9fSkZmvwEAAGBlloC/9///H0h5kL////8/KEabvwAAAMDzUqS/AAAA4LpGrL8AAABgoryyv////7/i8re/EgAAYOHDvb////+/whbCvw8AAMDrlsW/EQAAYH9hyb8IAAAgn3XNv////5886dC/+///36M707/7//+/p7HVv/z//5/vSti/CQAAgCcH278DAACg/+Xdv/7//x+Wc+C/AAAAoDIF4r/9////sqfjvwEAAKD2WuW/AQAAIN4e57////+fS/PovwIAAKAi2Oq/AQAA4EfN7L8DAAAAodLuv/b//38KdPC/BQAA4MWG8b/3//8fd6Hyv/r//x8TxPO/FAAAII/u9L/2//+/4CD2vw8AACD+Wve/8v//v92c+L/r//9fdub5v/L//x+/N/u/AQAAYK+Q/L/u///fPvH9vxUAAIBlWf+//f//v41kAMAEAADALCABwPr//x+M3wHA/v//P6iiAsAJAADAfWkDwPj//z8JNATACwAAoEcCBcD4//+/NdQFwP3//3/QqQbAAgAAABWDB8AGAABgAGAIwAkAAOCPQAnA9v//v8AkCsD7//9fkAwLwAcAAED89wvABgAAwAHnDMD+//9/ntkNwPf//x/Qzw7A",
          "dtype": "f8"
         }
        }
       ],
       "layout": {
        "font": {
         "color": "white"
        },
        "margin": {
         "b": 0,
         "l": 0,
         "r": 0,
         "t": 10
        },
        "paper_bgcolor": "#333",
        "plot_bgcolor": "#444",
        "scene": {
         "aspectmode": "manual",
         "aspectratio": {
          "x": 1,
          "y": 2.5,
          "z": 0.5
         },
         "camera": {
          "eye": {
           "x": -2,
           "y": 0,
           "z": 0
          }
         },
         "xaxis": {
          "backgroundcolor": "#444",
          "color": "white",
          "gridcolor": "#666",
          "showbackground": true,
          "zerolinecolor": "#666"
         },
         "yaxis": {
          "backgroundcolor": "#444",
          "color": "white",
          "gridcolor": "#666",
          "showbackground": true,
          "zerolinecolor": "#666"
         },
         "zaxis": {
          "backgroundcolor": "#444",
          "color": "white",
          "gridcolor": "#666",
          "showbackground": true,
          "zerolinecolor": "#666"
         }
        },
        "template": {
         "data": {
          "bar": [
           {
            "error_x": {
             "color": "#2a3f5f"
            },
            "error_y": {
             "color": "#2a3f5f"
            },
            "marker": {
             "line": {
              "color": "#E5ECF6",
              "width": 0.5
             },
             "pattern": {
              "fillmode": "overlay",
              "size": 10,
              "solidity": 0.2
             }
            },
            "type": "bar"
           }
          ],
          "barpolar": [
           {
            "marker": {
             "line": {
              "color": "#E5ECF6",
              "width": 0.5
             },
             "pattern": {
              "fillmode": "overlay",
              "size": 10,
              "solidity": 0.2
             }
            },
            "type": "barpolar"
           }
          ],
          "carpet": [
           {
            "aaxis": {
             "endlinecolor": "#2a3f5f",
             "gridcolor": "white",
             "linecolor": "white",
             "minorgridcolor": "white",
             "startlinecolor": "#2a3f5f"
            },
            "baxis": {
             "endlinecolor": "#2a3f5f",
             "gridcolor": "white",
             "linecolor": "white",
             "minorgridcolor": "white",
             "startlinecolor": "#2a3f5f"
            },
            "type": "carpet"
           }
          ],
          "choropleth": [
           {
            "colorbar": {
             "outlinewidth": 0,
             "ticks": ""
            },
            "type": "choropleth"
           }
          ],
          "contour": [
           {
            "colorbar": {
             "outlinewidth": 0,
             "ticks": ""
            },
            "colorscale": [
             [
              0,
              "#0d0887"
             ],
             [
              0.1111111111111111,
              "#46039f"
             ],
             [
              0.2222222222222222,
              "#7201a8"
             ],
             [
              0.3333333333333333,
              "#9c179e"
             ],
             [
              0.4444444444444444,
              "#bd3786"
             ],
             [
              0.5555555555555556,
              "#d8576b"
             ],
             [
              0.6666666666666666,
              "#ed7953"
             ],
             [
              0.7777777777777778,
              "#fb9f3a"
             ],
             [
              0.8888888888888888,
              "#fdca26"
             ],
             [
              1,
              "#f0f921"
             ]
            ],
            "type": "contour"
           }
          ],
          "contourcarpet": [
           {
            "colorbar": {
             "outlinewidth": 0,
             "ticks": ""
            },
            "type": "contourcarpet"
           }
          ],
          "heatmap": [
           {
            "colorbar": {
             "outlinewidth": 0,
             "ticks": ""
            },
            "colorscale": [
             [
              0,
              "#0d0887"
             ],
             [
              0.1111111111111111,
              "#46039f"
             ],
             [
              0.2222222222222222,
              "#7201a8"
             ],
             [
              0.3333333333333333,
              "#9c179e"
             ],
             [
              0.4444444444444444,
              "#bd3786"
             ],
             [
              0.5555555555555556,
              "#d8576b"
             ],
             [
              0.6666666666666666,
              "#ed7953"
             ],
             [
              0.7777777777777778,
              "#fb9f3a"
             ],
             [
              0.8888888888888888,
              "#fdca26"
             ],
             [
              1,
              "#f0f921"
             ]
            ],
            "type": "heatmap"
           }
          ],
          "histogram": [
           {
            "marker": {
             "pattern": {
              "fillmode": "overlay",
              "size": 10,
              "solidity": 0.2
             }
            },
            "type": "histogram"
           }
          ],
          "histogram2d": [
           {
            "colorbar": {
             "outlinewidth": 0,
             "ticks": ""
            },
            "colorscale": [
             [
              0,
              "#0d0887"
             ],
             [
              0.1111111111111111,
              "#46039f"
             ],
             [
              0.2222222222222222,
              "#7201a8"
             ],
             [
              0.3333333333333333,
              "#9c179e"
             ],
             [
              0.4444444444444444,
              "#bd3786"
             ],
             [
              0.5555555555555556,
              "#d8576b"
             ],
             [
              0.6666666666666666,
              "#ed7953"
             ],
             [
              0.7777777777777778,
              "#fb9f3a"
             ],
             [
              0.8888888888888888,
              "#fdca26"
             ],
             [
              1,
              "#f0f921"
             ]
            ],
            "type": "histogram2d"
           }
          ],
          "histogram2dcontour": [
           {
            "colorbar": {
             "outlinewidth": 0,
             "ticks": ""
            },
            "colorscale": [
             [
              0,
              "#0d0887"
             ],
             [
              0.1111111111111111,
              "#46039f"
             ],
             [
              0.2222222222222222,
              "#7201a8"
             ],
             [
              0.3333333333333333,
              "#9c179e"
             ],
             [
              0.4444444444444444,
              "#bd3786"
             ],
             [
              0.5555555555555556,
              "#d8576b"
             ],
             [
              0.6666666666666666,
              "#ed7953"
             ],
             [
              0.7777777777777778,
              "#fb9f3a"
             ],
             [
              0.8888888888888888,
              "#fdca26"
             ],
             [
              1,
              "#f0f921"
             ]
            ],
            "type": "histogram2dcontour"
           }
          ],
          "mesh3d": [
           {
            "colorbar": {
             "outlinewidth": 0,
             "ticks": ""
            },
            "type": "mesh3d"
           }
          ],
          "parcoords": [
           {
            "line": {
             "colorbar": {
              "outlinewidth": 0,
              "ticks": ""
             }
            },
            "type": "parcoords"
           }
          ],
          "pie": [
           {
            "automargin": true,
            "type": "pie"
           }
          ],
          "scatter": [
           {
            "fillpattern": {
             "fillmode": "overlay",
             "size": 10,
             "solidity": 0.2
            },
            "type": "scatter"
           }
          ],
          "scatter3d": [
           {
            "line": {
             "colorbar": {
              "outlinewidth": 0,
              "ticks": ""
             }
            },
            "marker": {
             "colorbar": {
              "outlinewidth": 0,
              "ticks": ""
             }
            },
            "type": "scatter3d"
           }
          ],
          "scattercarpet": [
           {
            "marker": {
             "colorbar": {
              "outlinewidth": 0,
              "ticks": ""
             }
            },
            "type": "scattercarpet"
           }
          ],
          "scattergeo": [
           {
            "marker": {
             "colorbar": {
              "outlinewidth": 0,
              "ticks": ""
             }
            },
            "type": "scattergeo"
           }
          ],
          "scattergl": [
           {
            "marker": {
             "colorbar": {
              "outlinewidth": 0,
              "ticks": ""
             }
            },
            "type": "scattergl"
           }
          ],
          "scattermap": [
           {
            "marker": {
             "colorbar": {
              "outlinewidth": 0,
              "ticks": ""
             }
            },
            "type": "scattermap"
           }
          ],
          "scattermapbox": [
           {
            "marker": {
             "colorbar": {
              "outlinewidth": 0,
              "ticks": ""
             }
            },
            "type": "scattermapbox"
           }
          ],
          "scatterpolar": [
           {
            "marker": {
             "colorbar": {
              "outlinewidth": 0,
              "ticks": ""
             }
            },
            "type": "scatterpolar"
           }
          ],
          "scatterpolargl": [
           {
            "marker": {
             "colorbar": {
              "outlinewidth": 0,
              "ticks": ""
             }
            },
            "type": "scatterpolargl"
           }
          ],
          "scatterternary": [
           {
            "marker": {
             "colorbar": {
              "outlinewidth": 0,
              "ticks": ""
             }
            },
            "type": "scatterternary"
           }
          ],
          "surface": [
           {
            "colorbar": {
             "outlinewidth": 0,
             "ticks": ""
            },
            "colorscale": [
             [
              0,
              "#0d0887"
             ],
             [
              0.1111111111111111,
              "#46039f"
             ],
             [
              0.2222222222222222,
              "#7201a8"
             ],
             [
              0.3333333333333333,
              "#9c179e"
             ],
             [
              0.4444444444444444,
              "#bd3786"
             ],
             [
              0.5555555555555556,
              "#d8576b"
             ],
             [
              0.6666666666666666,
              "#ed7953"
             ],
             [
              0.7777777777777778,
              "#fb9f3a"
             ],
             [
              0.8888888888888888,
              "#fdca26"
             ],
             [
              1,
              "#f0f921"
             ]
            ],
            "type": "surface"
           }
          ],
          "table": [
           {
            "cells": {
             "fill": {
              "color": "#EBF0F8"
             },
             "line": {
              "color": "white"
             }
            },
            "header": {
             "fill": {
              "color": "#C8D4E3"
             },
             "line": {
              "color": "white"
             }
            },
            "type": "table"
           }
          ]
         },
         "layout": {
          "annotationdefaults": {
           "arrowcolor": "#2a3f5f",
           "arrowhead": 0,
           "arrowwidth": 1
          },
          "autotypenumbers": "strict",
          "coloraxis": {
           "colorbar": {
            "outlinewidth": 0,
            "ticks": ""
           }
          },
          "colorscale": {
           "diverging": [
            [
             0,
             "#8e0152"
            ],
            [
             0.1,
             "#c51b7d"
            ],
            [
             0.2,
             "#de77ae"
            ],
            [
             0.3,
             "#f1b6da"
            ],
            [
             0.4,
             "#fde0ef"
            ],
            [
             0.5,
             "#f7f7f7"
            ],
            [
             0.6,
             "#e6f5d0"
            ],
            [
             0.7,
             "#b8e186"
            ],
            [
             0.8,
             "#7fbc41"
            ],
            [
             0.9,
             "#4d9221"
            ],
            [
             1,
             "#276419"
            ]
           ],
           "sequential": [
            [
             0,
             "#0d0887"
            ],
            [
             0.1111111111111111,
             "#46039f"
            ],
            [
             0.2222222222222222,
             "#7201a8"
            ],
            [
             0.3333333333333333,
             "#9c179e"
            ],
            [
             0.4444444444444444,
             "#bd3786"
            ],
            [
             0.5555555555555556,
             "#d8576b"
            ],
            [
             0.6666666666666666,
             "#ed7953"
            ],
            [
             0.7777777777777778,
             "#fb9f3a"
            ],
            [
             0.8888888888888888,
             "#fdca26"
            ],
            [
             1,
             "#f0f921"
            ]
           ],
           "sequentialminus": [
            [
             0,
             "#0d0887"
            ],
            [
             0.1111111111111111,
             "#46039f"
            ],
            [
             0.2222222222222222,
             "#7201a8"
            ],
            [
             0.3333333333333333,
             "#9c179e"
            ],
            [
             0.4444444444444444,
             "#bd3786"
            ],
            [
             0.5555555555555556,
             "#d8576b"
            ],
            [
             0.6666666666666666,
             "#ed7953"
            ],
            [
             0.7777777777777778,
             "#fb9f3a"
            ],
            [
             0.8888888888888888,
             "#fdca26"
            ],
            [
             1,
             "#f0f921"
            ]
           ]
          },
          "colorway": [
           "#636efa",
           "#EF553B",
           "#00cc96",
           "#ab63fa",
           "#FFA15A",
           "#19d3f3",
           "#FF6692",
           "#B6E880",
           "#FF97FF",
           "#FECB52"
          ],
          "font": {
           "color": "#2a3f5f"
          },
          "geo": {
           "bgcolor": "white",
           "lakecolor": "white",
           "landcolor": "#E5ECF6",
           "showlakes": true,
           "showland": true,
           "subunitcolor": "white"
          },
          "hoverlabel": {
           "align": "left"
          },
          "hovermode": "closest",
          "mapbox": {
           "style": "light"
          },
          "paper_bgcolor": "white",
          "plot_bgcolor": "#E5ECF6",
          "polar": {
           "angularaxis": {
            "gridcolor": "white",
            "linecolor": "white",
            "ticks": ""
           },
           "bgcolor": "#E5ECF6",
           "radialaxis": {
            "gridcolor": "white",
            "linecolor": "white",
            "ticks": ""
           }
          },
          "scene": {
           "xaxis": {
            "backgroundcolor": "#E5ECF6",
            "gridcolor": "white",
            "gridwidth": 2,
            "linecolor": "white",
            "showbackground": true,
            "ticks": "",
            "zerolinecolor": "white"
           },
           "yaxis": {
            "backgroundcolor": "#E5ECF6",
            "gridcolor": "white",
            "gridwidth": 2,
            "linecolor": "white",
            "showbackground": true,
            "ticks": "",
            "zerolinecolor": "white"
           },
           "zaxis": {
            "backgroundcolor": "#E5ECF6",
            "gridcolor": "white",
            "gridwidth": 2,
            "linecolor": "white",
            "showbackground": true,
            "ticks": "",
            "zerolinecolor": "white"
           }
          },
          "shapedefaults": {
           "line": {
            "color": "#2a3f5f"
           }
          },
          "ternary": {
           "aaxis": {
            "gridcolor": "white",
            "linecolor": "white",
            "ticks": ""
           },
           "baxis": {
            "gridcolor": "white",
            "linecolor": "white",
            "ticks": ""
           },
           "bgcolor": "#E5ECF6",
           "caxis": {
            "gridcolor": "white",
            "linecolor": "white",
            "ticks": ""
           }
          },
          "title": {
           "x": 0.05
          },
          "xaxis": {
           "automargin": true,
           "gridcolor": "white",
           "linecolor": "white",
           "ticks": "",
           "title": {
            "standoff": 15
           },
           "zerolinecolor": "white",
           "zerolinewidth": 2
          },
          "yaxis": {
           "automargin": true,
           "gridcolor": "white",
           "linecolor": "white",
           "ticks": "",
           "title": {
            "standoff": 15
           },
           "zerolinecolor": "white",
           "zerolinewidth": 2
          }
         }
        }
       }
      }
     },
     "metadata": {},
     "output_type": "display_data"
    }
   ],
   "source": [
    "fig = go.Figure()\n",
    "\n",
    "mach_min = df['projectile.mach_number'].min()\n",
    "mach_max = df['projectile.mach_number'].max()\n",
    "mach_threshold = 1.0\n",
    "mach_threshold_norm = (mach_threshold - mach_min) / (mach_max - mach_min)\n",
    "mach_colorscale = [\n",
    "  [0.0, '#2f9'],\n",
    "  [mach_threshold_norm, '#4af'],\n",
    "  [mach_threshold_norm, '#f00'],\n",
    "  [1.0, '#ff0']\n",
    "]\n",
    "\n",
    "fig.add_trace(go.Scatter3d(\n",
    "  x=df['projectile.position.x'],\n",
    "  z=df['projectile.position.y'],\n",
    "  y=df['projectile.position.z'],\n",
    "  mode='lines+markers',\n",
    "  marker=dict(\n",
    "    size=3,\n",
    "    color=df['projectile.current_drag_coef'],\n",
    "    colorscale='Jet',\n",
    "    colorbar=dict(\n",
    "      title='Drag Coefficient',\n",
    "      y=0.0,\n",
    "      len=0.5\n",
    "    )\n",
    "  ),\n",
    "  line=dict(\n",
    "    width=4,\n",
    "    color=df['projectile.mach_number'],\n",
    "    colorscale=mach_colorscale,\n",
    "    colorbar=dict(\n",
    "      title='Mach Number',\n",
    "      y=0.5,\n",
    "      len=0.5\n",
    "    ),\n",
    "  ),\n",
    "  name='Position',\n",
    "  customdata=pd.concat([\n",
    "    df[[\n",
    "    'timing.frame',\n",
    "    'projectile.flight_time',\n",
    "    'projectile.velocity.z',  # Rate Z\n",
    "    'projectile.velocity.y',  # Rate Y\n",
    "    'projectile.velocity.x',  # Rate X\n",
    "    'projectile.velocity.length',  # Vel m/s\n",
    "    'projectile.mach_number',      # Vel M\n",
    "    'projectile.current_drag_coef' # Cd\n",
    "  ]],\n",
    "    df[[\n",
    "      'projectile.position.z',  # Dist (Z)\n",
    "      'projectile.position.y',  # Drop (Y)\n",
    "      'projectile.position.x',  # Drift (X)\n",
    "    ]].abs()\n",
    "  ], axis=1),\n",
    "  hovertemplate=(\n",
    "    \"Frame %{customdata[0]} (%{customdata[1]:.5f}s)<br>\" +\n",
    "    \"Dist: %{customdata[8]:.2f} m | Drop: %{customdata[9]:.2f} m | Drift: %{customdata[10]:.2f} m<br>\" +\n",
    "    \"Rate: (%{customdata[2]:.2f}, %{customdata[3]:.2f}, %{customdata[4]:.2f}) m/s<br>\" +\n",
    "    \"Velocity: %{customdata[5]:.2f} m/s (%{customdata[6]:.2f} M)<br>\" +\n",
    "    \"Cd: %{customdata[7]:.3f}\" +\n",
    "    \"<extra></extra>\"\n",
    "  )\n",
    "))\n",
    "\n",
    "\n",
    "scene_ax = dict(\n",
    "  backgroundcolor='#444',\n",
    "  gridcolor='#666',\n",
    "  showbackground=True,\n",
    "  zerolinecolor='#666',\n",
    "  color='white'\n",
    ")\n",
    "fig.update_layout(\n",
    "  paper_bgcolor='#333',\n",
    "  plot_bgcolor='#444',\n",
    "  font=dict(\n",
    "    color='white'\n",
    "  ),\n",
    "  scene_camera=dict(\n",
    "    eye=dict(x=-2.0, y=0.0, z=0.0)  # положение \"глаза камеры\"\n",
    "  ),\n",
    "  scene=dict(\n",
    "    aspectmode='manual',\n",
    "    aspectratio=dict(x=1.0, y=2.5, z=0.5),\n",
    "    xaxis=scene_ax,\n",
    "    yaxis=scene_ax,\n",
    "    zaxis=scene_ax\n",
    "  ),\n",
    "  margin=dict(l=0, r=0, b=0, t=10)\n",
    ")"
   ]
  },
  {
   "cell_type": "code",
   "execution_count": null,
   "id": "92588a5e",
   "metadata": {},
   "outputs": [
    {
     "data": {
      "text/html": [
       "<div>\n",
       "<style scoped>\n",
       "    .dataframe tbody tr th:only-of-type {\n",
       "        vertical-align: middle;\n",
       "    }\n",
       "\n",
       "    .dataframe tbody tr th {\n",
       "        vertical-align: top;\n",
       "    }\n",
       "\n",
       "    .dataframe thead th {\n",
       "        text-align: right;\n",
       "    }\n",
       "</style>\n",
       "<table border=\"1\" class=\"dataframe\">\n",
       "  <thead>\n",
       "    <tr style=\"text-align: right;\">\n",
       "      <th></th>\n",
       "      <th>timing.frame</th>\n",
       "      <th>projectile.flight_time</th>\n",
       "      <th>projectile.velocity.z</th>\n",
       "      <th>projectile.velocity.y</th>\n",
       "      <th>projectile.velocity.x</th>\n",
       "      <th>projectile.velocity.length</th>\n",
       "      <th>projectile.mach_number</th>\n",
       "      <th>projectile.current_drag_coef</th>\n",
       "      <th>projectile.position.z</th>\n",
       "      <th>projectile.position.y</th>\n",
       "      <th>projectile.position.x</th>\n",
       "    </tr>\n",
       "  </thead>\n",
       "  <tbody>\n",
       "    <tr>\n",
       "      <th>0</th>\n",
       "      <td>0</td>\n",
       "      <td>0.000000</td>\n",
       "      <td>-922.000000</td>\n",
       "      <td>0.000000</td>\n",
       "      <td>0.0</td>\n",
       "      <td>922.000000</td>\n",
       "      <td>0.000000</td>\n",
       "      <td>0.000000</td>\n",
       "      <td>0.000000</td>\n",
       "      <td>0.000000</td>\n",
       "      <td>0.0</td>\n",
       "    </tr>\n",
       "    <tr>\n",
       "      <th>1</th>\n",
       "      <td>1</td>\n",
       "      <td>0.016667</td>\n",
       "      <td>-901.771667</td>\n",
       "      <td>-0.163144</td>\n",
       "      <td>0.0</td>\n",
       "      <td>901.771682</td>\n",
       "      <td>2.688047</td>\n",
       "      <td>0.252000</td>\n",
       "      <td>15.029529</td>\n",
       "      <td>0.002719</td>\n",
       "      <td>0.0</td>\n",
       "    </tr>\n",
       "    <tr>\n",
       "      <th>2</th>\n",
       "      <td>2</td>\n",
       "      <td>0.033333</td>\n",
       "      <td>-882.591125</td>\n",
       "      <td>-0.322818</td>\n",
       "      <td>0.0</td>\n",
       "      <td>882.591185</td>\n",
       "      <td>2.629072</td>\n",
       "      <td>0.374531</td>\n",
       "      <td>29.739382</td>\n",
       "      <td>0.008099</td>\n",
       "      <td>0.0</td>\n",
       "    </tr>\n",
       "    <tr>\n",
       "      <th>3</th>\n",
       "      <td>3</td>\n",
       "      <td>0.050000</td>\n",
       "      <td>-864.372192</td>\n",
       "      <td>-0.479298</td>\n",
       "      <td>0.0</td>\n",
       "      <td>864.372325</td>\n",
       "      <td>2.573152</td>\n",
       "      <td>0.371228</td>\n",
       "      <td>44.145584</td>\n",
       "      <td>0.016088</td>\n",
       "      <td>0.0</td>\n",
       "    </tr>\n",
       "    <tr>\n",
       "      <th>4</th>\n",
       "      <td>4</td>\n",
       "      <td>0.066667</td>\n",
       "      <td>-847.038208</td>\n",
       "      <td>-0.632830</td>\n",
       "      <td>0.0</td>\n",
       "      <td>847.038444</td>\n",
       "      <td>2.520036</td>\n",
       "      <td>0.368097</td>\n",
       "      <td>58.262886</td>\n",
       "      <td>0.026635</td>\n",
       "      <td>0.0</td>\n",
       "    </tr>\n",
       "    <tr>\n",
       "      <th>5</th>\n",
       "      <td>5</td>\n",
       "      <td>0.083333</td>\n",
       "      <td>-830.520874</td>\n",
       "      <td>-0.783633</td>\n",
       "      <td>0.0</td>\n",
       "      <td>830.521244</td>\n",
       "      <td>2.469500</td>\n",
       "      <td>0.365122</td>\n",
       "      <td>72.104904</td>\n",
       "      <td>0.039695</td>\n",
       "      <td>0.0</td>\n",
       "    </tr>\n",
       "    <tr>\n",
       "      <th>6</th>\n",
       "      <td>6</td>\n",
       "      <td>0.100000</td>\n",
       "      <td>-814.758972</td>\n",
       "      <td>-0.931905</td>\n",
       "      <td>0.0</td>\n",
       "      <td>814.759505</td>\n",
       "      <td>2.421345</td>\n",
       "      <td>0.362292</td>\n",
       "      <td>85.684219</td>\n",
       "      <td>0.055227</td>\n",
       "      <td>0.0</td>\n",
       "    </tr>\n",
       "    <tr>\n",
       "      <th>7</th>\n",
       "      <td>7</td>\n",
       "      <td>0.116667</td>\n",
       "      <td>-799.697632</td>\n",
       "      <td>-1.077822</td>\n",
       "      <td>0.0</td>\n",
       "      <td>799.698358</td>\n",
       "      <td>2.375392</td>\n",
       "      <td>0.359595</td>\n",
       "      <td>99.012512</td>\n",
       "      <td>0.073191</td>\n",
       "      <td>0.0</td>\n",
       "    </tr>\n",
       "    <tr>\n",
       "      <th>8</th>\n",
       "      <td>8</td>\n",
       "      <td>0.133333</td>\n",
       "      <td>-785.287354</td>\n",
       "      <td>-1.221544</td>\n",
       "      <td>0.0</td>\n",
       "      <td>785.288304</td>\n",
       "      <td>2.331482</td>\n",
       "      <td>0.357022</td>\n",
       "      <td>112.100632</td>\n",
       "      <td>0.093550</td>\n",
       "      <td>0.0</td>\n",
       "    </tr>\n",
       "    <tr>\n",
       "      <th>9</th>\n",
       "      <td>9</td>\n",
       "      <td>0.150000</td>\n",
       "      <td>-771.483337</td>\n",
       "      <td>-1.363215</td>\n",
       "      <td>0.0</td>\n",
       "      <td>771.484542</td>\n",
       "      <td>2.289470</td>\n",
       "      <td>0.354563</td>\n",
       "      <td>124.958687</td>\n",
       "      <td>0.116270</td>\n",
       "      <td>0.0</td>\n",
       "    </tr>\n",
       "    <tr>\n",
       "      <th>10</th>\n",
       "      <td>10</td>\n",
       "      <td>0.166667</td>\n",
       "      <td>-758.245056</td>\n",
       "      <td>-1.502967</td>\n",
       "      <td>0.0</td>\n",
       "      <td>758.246546</td>\n",
       "      <td>2.249226</td>\n",
       "      <td>0.352210</td>\n",
       "      <td>137.596100</td>\n",
       "      <td>0.141320</td>\n",
       "      <td>0.0</td>\n",
       "    </tr>\n",
       "    <tr>\n",
       "      <th>11</th>\n",
       "      <td>11</td>\n",
       "      <td>0.183333</td>\n",
       "      <td>-745.535583</td>\n",
       "      <td>-1.640918</td>\n",
       "      <td>0.0</td>\n",
       "      <td>745.537389</td>\n",
       "      <td>2.210631</td>\n",
       "      <td>0.349957</td>\n",
       "      <td>150.021698</td>\n",
       "      <td>0.168668</td>\n",
       "      <td>0.0</td>\n",
       "    </tr>\n",
       "    <tr>\n",
       "      <th>12</th>\n",
       "      <td>12</td>\n",
       "      <td>0.200000</td>\n",
       "      <td>-733.321411</td>\n",
       "      <td>-1.777179</td>\n",
       "      <td>0.0</td>\n",
       "      <td>733.323565</td>\n",
       "      <td>2.173578</td>\n",
       "      <td>0.347795</td>\n",
       "      <td>162.243729</td>\n",
       "      <td>0.198288</td>\n",
       "      <td>0.0</td>\n",
       "    </tr>\n",
       "    <tr>\n",
       "      <th>13</th>\n",
       "      <td>13</td>\n",
       "      <td>0.216667</td>\n",
       "      <td>-721.571777</td>\n",
       "      <td>-1.911848</td>\n",
       "      <td>0.0</td>\n",
       "      <td>721.574310</td>\n",
       "      <td>2.137970</td>\n",
       "      <td>0.345720</td>\n",
       "      <td>174.269928</td>\n",
       "      <td>0.230152</td>\n",
       "      <td>0.0</td>\n",
       "    </tr>\n",
       "    <tr>\n",
       "      <th>14</th>\n",
       "      <td>14</td>\n",
       "      <td>0.233333</td>\n",
       "      <td>-710.258606</td>\n",
       "      <td>-2.045017</td>\n",
       "      <td>0.0</td>\n",
       "      <td>710.261550</td>\n",
       "      <td>2.103715</td>\n",
       "      <td>0.343726</td>\n",
       "      <td>186.107574</td>\n",
       "      <td>0.264236</td>\n",
       "      <td>0.0</td>\n",
       "    </tr>\n",
       "    <tr>\n",
       "      <th>15</th>\n",
       "      <td>15</td>\n",
       "      <td>0.250000</td>\n",
       "      <td>-699.356140</td>\n",
       "      <td>-2.176770</td>\n",
       "      <td>0.0</td>\n",
       "      <td>699.359528</td>\n",
       "      <td>2.070733</td>\n",
       "      <td>0.341808</td>\n",
       "      <td>197.763504</td>\n",
       "      <td>0.300515</td>\n",
       "      <td>0.0</td>\n",
       "    </tr>\n",
       "    <tr>\n",
       "      <th>16</th>\n",
       "      <td>16</td>\n",
       "      <td>0.266667</td>\n",
       "      <td>-688.840637</td>\n",
       "      <td>-2.307184</td>\n",
       "      <td>0.0</td>\n",
       "      <td>688.844501</td>\n",
       "      <td>2.038949</td>\n",
       "      <td>0.339961</td>\n",
       "      <td>209.244186</td>\n",
       "      <td>0.338968</td>\n",
       "      <td>0.0</td>\n",
       "    </tr>\n",
       "    <tr>\n",
       "      <th>17</th>\n",
       "      <td>17</td>\n",
       "      <td>0.283333</td>\n",
       "      <td>-678.690308</td>\n",
       "      <td>-2.436331</td>\n",
       "      <td>0.0</td>\n",
       "      <td>678.694681</td>\n",
       "      <td>2.008293</td>\n",
       "      <td>0.338181</td>\n",
       "      <td>220.555695</td>\n",
       "      <td>0.379574</td>\n",
       "      <td>0.0</td>\n",
       "    </tr>\n",
       "    <tr>\n",
       "      <th>18</th>\n",
       "      <td>18</td>\n",
       "      <td>0.300000</td>\n",
       "      <td>-668.884949</td>\n",
       "      <td>-2.564276</td>\n",
       "      <td>0.0</td>\n",
       "      <td>668.889864</td>\n",
       "      <td>1.978702</td>\n",
       "      <td>0.336464</td>\n",
       "      <td>231.703781</td>\n",
       "      <td>0.422312</td>\n",
       "      <td>0.0</td>\n",
       "    </tr>\n",
       "    <tr>\n",
       "      <th>19</th>\n",
       "      <td>19</td>\n",
       "      <td>0.316667</td>\n",
       "      <td>-659.405945</td>\n",
       "      <td>-2.691080</td>\n",
       "      <td>0.0</td>\n",
       "      <td>659.411436</td>\n",
       "      <td>1.950116</td>\n",
       "      <td>0.334807</td>\n",
       "      <td>242.693878</td>\n",
       "      <td>0.467163</td>\n",
       "      <td>0.0</td>\n",
       "    </tr>\n",
       "    <tr>\n",
       "      <th>20</th>\n",
       "      <td>20</td>\n",
       "      <td>0.333333</td>\n",
       "      <td>-650.236023</td>\n",
       "      <td>-2.816801</td>\n",
       "      <td>0.0</td>\n",
       "      <td>650.242124</td>\n",
       "      <td>1.922482</td>\n",
       "      <td>0.333207</td>\n",
       "      <td>253.531143</td>\n",
       "      <td>0.514110</td>\n",
       "      <td>0.0</td>\n",
       "    </tr>\n",
       "    <tr>\n",
       "      <th>21</th>\n",
       "      <td>21</td>\n",
       "      <td>0.350000</td>\n",
       "      <td>-641.359131</td>\n",
       "      <td>-2.941491</td>\n",
       "      <td>0.0</td>\n",
       "      <td>641.365876</td>\n",
       "      <td>1.895750</td>\n",
       "      <td>0.331659</td>\n",
       "      <td>264.220459</td>\n",
       "      <td>0.563134</td>\n",
       "      <td>0.0</td>\n",
       "    </tr>\n",
       "    <tr>\n",
       "      <th>22</th>\n",
       "      <td>22</td>\n",
       "      <td>0.366667</td>\n",
       "      <td>-632.760437</td>\n",
       "      <td>-3.065198</td>\n",
       "      <td>0.0</td>\n",
       "      <td>632.767861</td>\n",
       "      <td>1.869871</td>\n",
       "      <td>0.330162</td>\n",
       "      <td>274.766479</td>\n",
       "      <td>0.614221</td>\n",
       "      <td>0.0</td>\n",
       "    </tr>\n",
       "    <tr>\n",
       "      <th>23</th>\n",
       "      <td>23</td>\n",
       "      <td>0.383333</td>\n",
       "      <td>-624.426086</td>\n",
       "      <td>-3.187969</td>\n",
       "      <td>0.0</td>\n",
       "      <td>624.434224</td>\n",
       "      <td>1.844804</td>\n",
       "      <td>0.328713</td>\n",
       "      <td>285.173584</td>\n",
       "      <td>0.667354</td>\n",
       "      <td>0.0</td>\n",
       "    </tr>\n",
       "    <tr>\n",
       "      <th>24</th>\n",
       "      <td>24</td>\n",
       "      <td>0.400000</td>\n",
       "      <td>-616.343140</td>\n",
       "      <td>-3.309845</td>\n",
       "      <td>0.0</td>\n",
       "      <td>616.352027</td>\n",
       "      <td>1.820508</td>\n",
       "      <td>0.327309</td>\n",
       "      <td>295.445984</td>\n",
       "      <td>0.722518</td>\n",
       "      <td>0.0</td>\n",
       "    </tr>\n",
       "    <tr>\n",
       "      <th>25</th>\n",
       "      <td>25</td>\n",
       "      <td>0.416667</td>\n",
       "      <td>-608.499512</td>\n",
       "      <td>-3.430868</td>\n",
       "      <td>0.0</td>\n",
       "      <td>608.509184</td>\n",
       "      <td>1.796945</td>\n",
       "      <td>0.325948</td>\n",
       "      <td>305.587646</td>\n",
       "      <td>0.779699</td>\n",
       "      <td>0.0</td>\n",
       "    </tr>\n",
       "    <tr>\n",
       "      <th>26</th>\n",
       "      <td>26</td>\n",
       "      <td>0.433333</td>\n",
       "      <td>-600.884033</td>\n",
       "      <td>-3.551074</td>\n",
       "      <td>0.0</td>\n",
       "      <td>600.894526</td>\n",
       "      <td>1.774079</td>\n",
       "      <td>0.324629</td>\n",
       "      <td>315.602386</td>\n",
       "      <td>0.838884</td>\n",
       "      <td>0.0</td>\n",
       "    </tr>\n",
       "    <tr>\n",
       "      <th>27</th>\n",
       "      <td>27</td>\n",
       "      <td>0.450000</td>\n",
       "      <td>-593.486084</td>\n",
       "      <td>-3.670498</td>\n",
       "      <td>0.0</td>\n",
       "      <td>593.497434</td>\n",
       "      <td>1.751879</td>\n",
       "      <td>0.323348</td>\n",
       "      <td>325.493835</td>\n",
       "      <td>0.900059</td>\n",
       "      <td>0.0</td>\n",
       "    </tr>\n",
       "    <tr>\n",
       "      <th>28</th>\n",
       "      <td>28</td>\n",
       "      <td>0.466667</td>\n",
       "      <td>-586.295837</td>\n",
       "      <td>-3.789173</td>\n",
       "      <td>0.0</td>\n",
       "      <td>586.308082</td>\n",
       "      <td>1.730313</td>\n",
       "      <td>0.322105</td>\n",
       "      <td>335.265442</td>\n",
       "      <td>0.963212</td>\n",
       "      <td>0.0</td>\n",
       "    </tr>\n",
       "    <tr>\n",
       "      <th>29</th>\n",
       "      <td>29</td>\n",
       "      <td>0.483333</td>\n",
       "      <td>-579.304016</td>\n",
       "      <td>-3.907129</td>\n",
       "      <td>0.0</td>\n",
       "      <td>579.317192</td>\n",
       "      <td>1.709353</td>\n",
       "      <td>0.320898</td>\n",
       "      <td>344.920502</td>\n",
       "      <td>1.028330</td>\n",
       "      <td>0.0</td>\n",
       "    </tr>\n",
       "    <tr>\n",
       "      <th>30</th>\n",
       "      <td>30</td>\n",
       "      <td>0.500000</td>\n",
       "      <td>-572.501953</td>\n",
       "      <td>-4.024396</td>\n",
       "      <td>0.0</td>\n",
       "      <td>572.516098</td>\n",
       "      <td>1.688971</td>\n",
       "      <td>0.319724</td>\n",
       "      <td>354.462189</td>\n",
       "      <td>1.095404</td>\n",
       "      <td>0.0</td>\n",
       "    </tr>\n",
       "    <tr>\n",
       "      <th>31</th>\n",
       "      <td>31</td>\n",
       "      <td>0.516667</td>\n",
       "      <td>-565.881470</td>\n",
       "      <td>-4.141001</td>\n",
       "      <td>0.0</td>\n",
       "      <td>565.896621</td>\n",
       "      <td>1.669143</td>\n",
       "      <td>0.318582</td>\n",
       "      <td>363.893555</td>\n",
       "      <td>1.164420</td>\n",
       "      <td>0.0</td>\n",
       "    </tr>\n",
       "    <tr>\n",
       "      <th>32</th>\n",
       "      <td>32</td>\n",
       "      <td>0.533333</td>\n",
       "      <td>-559.434814</td>\n",
       "      <td>-4.256970</td>\n",
       "      <td>0.0</td>\n",
       "      <td>559.451011</td>\n",
       "      <td>1.649844</td>\n",
       "      <td>0.317472</td>\n",
       "      <td>373.217468</td>\n",
       "      <td>1.235370</td>\n",
       "      <td>0.0</td>\n",
       "    </tr>\n",
       "    <tr>\n",
       "      <th>33</th>\n",
       "      <td>33</td>\n",
       "      <td>0.550000</td>\n",
       "      <td>-553.154785</td>\n",
       "      <td>-4.372326</td>\n",
       "      <td>0.0</td>\n",
       "      <td>553.172065</td>\n",
       "      <td>1.631052</td>\n",
       "      <td>0.316391</td>\n",
       "      <td>382.436707</td>\n",
       "      <td>1.308242</td>\n",
       "      <td>0.0</td>\n",
       "    </tr>\n",
       "    <tr>\n",
       "      <th>34</th>\n",
       "      <td>34</td>\n",
       "      <td>0.566667</td>\n",
       "      <td>-547.034546</td>\n",
       "      <td>-4.487093</td>\n",
       "      <td>0.0</td>\n",
       "      <td>547.052948</td>\n",
       "      <td>1.612747</td>\n",
       "      <td>0.315339</td>\n",
       "      <td>391.553955</td>\n",
       "      <td>1.383027</td>\n",
       "      <td>0.0</td>\n",
       "    </tr>\n",
       "    <tr>\n",
       "      <th>35</th>\n",
       "      <td>35</td>\n",
       "      <td>0.583333</td>\n",
       "      <td>-541.067688</td>\n",
       "      <td>-4.601293</td>\n",
       "      <td>0.0</td>\n",
       "      <td>541.087253</td>\n",
       "      <td>1.594906</td>\n",
       "      <td>0.314314</td>\n",
       "      <td>400.571747</td>\n",
       "      <td>1.459715</td>\n",
       "      <td>0.0</td>\n",
       "    </tr>\n",
       "    <tr>\n",
       "      <th>36</th>\n",
       "      <td>36</td>\n",
       "      <td>0.600000</td>\n",
       "      <td>-535.248047</td>\n",
       "      <td>-4.714946</td>\n",
       "      <td>0.0</td>\n",
       "      <td>535.268813</td>\n",
       "      <td>1.577514</td>\n",
       "      <td>0.313315</td>\n",
       "      <td>409.492554</td>\n",
       "      <td>1.538297</td>\n",
       "      <td>0.0</td>\n",
       "    </tr>\n",
       "    <tr>\n",
       "      <th>37</th>\n",
       "      <td>37</td>\n",
       "      <td>0.616667</td>\n",
       "      <td>-529.569885</td>\n",
       "      <td>-4.828071</td>\n",
       "      <td>0.0</td>\n",
       "      <td>529.591893</td>\n",
       "      <td>1.560550</td>\n",
       "      <td>0.312341</td>\n",
       "      <td>418.318726</td>\n",
       "      <td>1.618765</td>\n",
       "      <td>0.0</td>\n",
       "    </tr>\n",
       "    <tr>\n",
       "      <th>38</th>\n",
       "      <td>38</td>\n",
       "      <td>0.633333</td>\n",
       "      <td>-524.027771</td>\n",
       "      <td>-4.940687</td>\n",
       "      <td>0.0</td>\n",
       "      <td>524.051062</td>\n",
       "      <td>1.544000</td>\n",
       "      <td>0.311391</td>\n",
       "      <td>427.052521</td>\n",
       "      <td>1.701110</td>\n",
       "      <td>0.0</td>\n",
       "    </tr>\n",
       "    <tr>\n",
       "      <th>39</th>\n",
       "      <td>39</td>\n",
       "      <td>0.650000</td>\n",
       "      <td>-518.616455</td>\n",
       "      <td>-5.052812</td>\n",
       "      <td>0.0</td>\n",
       "      <td>518.641069</td>\n",
       "      <td>1.527846</td>\n",
       "      <td>0.310464</td>\n",
       "      <td>435.696136</td>\n",
       "      <td>1.785324</td>\n",
       "      <td>0.0</td>\n",
       "    </tr>\n",
       "    <tr>\n",
       "      <th>40</th>\n",
       "      <td>40</td>\n",
       "      <td>0.666667</td>\n",
       "      <td>-513.331116</td>\n",
       "      <td>-5.164461</td>\n",
       "      <td>0.0</td>\n",
       "      <td>513.357094</td>\n",
       "      <td>1.512073</td>\n",
       "      <td>0.309559</td>\n",
       "      <td>444.251648</td>\n",
       "      <td>1.871398</td>\n",
       "      <td>0.0</td>\n",
       "    </tr>\n",
       "    <tr>\n",
       "      <th>41</th>\n",
       "      <td>41</td>\n",
       "      <td>0.683333</td>\n",
       "      <td>-508.167084</td>\n",
       "      <td>-5.275651</td>\n",
       "      <td>0.0</td>\n",
       "      <td>508.194468</td>\n",
       "      <td>1.496668</td>\n",
       "      <td>0.308676</td>\n",
       "      <td>452.721100</td>\n",
       "      <td>1.959325</td>\n",
       "      <td>0.0</td>\n",
       "    </tr>\n",
       "    <tr>\n",
       "      <th>42</th>\n",
       "      <td>42</td>\n",
       "      <td>0.700000</td>\n",
       "      <td>-503.119965</td>\n",
       "      <td>-5.386397</td>\n",
       "      <td>0.0</td>\n",
       "      <td>503.148797</td>\n",
       "      <td>1.481616</td>\n",
       "      <td>0.307813</td>\n",
       "      <td>461.106445</td>\n",
       "      <td>2.049098</td>\n",
       "      <td>0.0</td>\n",
       "    </tr>\n",
       "    <tr>\n",
       "      <th>43</th>\n",
       "      <td>43</td>\n",
       "      <td>0.716667</td>\n",
       "      <td>-498.185547</td>\n",
       "      <td>-5.496713</td>\n",
       "      <td>0.0</td>\n",
       "      <td>498.215870</td>\n",
       "      <td>1.466906</td>\n",
       "      <td>0.306971</td>\n",
       "      <td>469.409546</td>\n",
       "      <td>2.140710</td>\n",
       "      <td>0.0</td>\n",
       "    </tr>\n",
       "    <tr>\n",
       "      <th>44</th>\n",
       "      <td>44</td>\n",
       "      <td>0.733333</td>\n",
       "      <td>-493.359833</td>\n",
       "      <td>-5.606612</td>\n",
       "      <td>0.0</td>\n",
       "      <td>493.391689</td>\n",
       "      <td>1.452524</td>\n",
       "      <td>0.306147</td>\n",
       "      <td>477.632202</td>\n",
       "      <td>2.234154</td>\n",
       "      <td>0.0</td>\n",
       "    </tr>\n",
       "    <tr>\n",
       "      <th>45</th>\n",
       "      <td>45</td>\n",
       "      <td>0.750000</td>\n",
       "      <td>-488.639038</td>\n",
       "      <td>-5.716107</td>\n",
       "      <td>0.0</td>\n",
       "      <td>488.672471</td>\n",
       "      <td>1.438460</td>\n",
       "      <td>0.305341</td>\n",
       "      <td>485.776184</td>\n",
       "      <td>2.329422</td>\n",
       "      <td>0.0</td>\n",
       "    </tr>\n",
       "    <tr>\n",
       "      <th>46</th>\n",
       "      <td>46</td>\n",
       "      <td>0.766667</td>\n",
       "      <td>-484.019531</td>\n",
       "      <td>-5.825212</td>\n",
       "      <td>0.0</td>\n",
       "      <td>484.054583</td>\n",
       "      <td>1.424701</td>\n",
       "      <td>0.304554</td>\n",
       "      <td>493.843170</td>\n",
       "      <td>2.426509</td>\n",
       "      <td>0.0</td>\n",
       "    </tr>\n",
       "    <tr>\n",
       "      <th>47</th>\n",
       "      <td>47</td>\n",
       "      <td>0.783333</td>\n",
       "      <td>-479.497894</td>\n",
       "      <td>-5.933937</td>\n",
       "      <td>0.0</td>\n",
       "      <td>479.534610</td>\n",
       "      <td>1.411238</td>\n",
       "      <td>0.303783</td>\n",
       "      <td>501.834808</td>\n",
       "      <td>2.525408</td>\n",
       "      <td>0.0</td>\n",
       "    </tr>\n",
       "    <tr>\n",
       "      <th>48</th>\n",
       "      <td>48</td>\n",
       "      <td>0.800000</td>\n",
       "      <td>-475.070831</td>\n",
       "      <td>-6.042295</td>\n",
       "      <td>0.0</td>\n",
       "      <td>475.109255</td>\n",
       "      <td>1.398060</td>\n",
       "      <td>0.303029</td>\n",
       "      <td>509.752655</td>\n",
       "      <td>2.626113</td>\n",
       "      <td>0.0</td>\n",
       "    </tr>\n",
       "    <tr>\n",
       "      <th>49</th>\n",
       "      <td>49</td>\n",
       "      <td>0.816667</td>\n",
       "      <td>-470.735199</td>\n",
       "      <td>-6.150294</td>\n",
       "      <td>0.0</td>\n",
       "      <td>470.775375</td>\n",
       "      <td>1.385158</td>\n",
       "      <td>0.302291</td>\n",
       "      <td>517.598267</td>\n",
       "      <td>2.728618</td>\n",
       "      <td>0.0</td>\n",
       "    </tr>\n",
       "    <tr>\n",
       "      <th>50</th>\n",
       "      <td>50</td>\n",
       "      <td>0.833333</td>\n",
       "      <td>-466.488007</td>\n",
       "      <td>-6.257947</td>\n",
       "      <td>0.0</td>\n",
       "      <td>466.529980</td>\n",
       "      <td>1.372523</td>\n",
       "      <td>0.301569</td>\n",
       "      <td>525.373047</td>\n",
       "      <td>2.832917</td>\n",
       "      <td>0.0</td>\n",
       "    </tr>\n",
       "    <tr>\n",
       "      <th>51</th>\n",
       "      <td>51</td>\n",
       "      <td>0.850000</td>\n",
       "      <td>-462.326416</td>\n",
       "      <td>-6.365263</td>\n",
       "      <td>0.0</td>\n",
       "      <td>462.370232</td>\n",
       "      <td>1.360146</td>\n",
       "      <td>0.300861</td>\n",
       "      <td>533.078491</td>\n",
       "      <td>2.939005</td>\n",
       "      <td>0.0</td>\n",
       "    </tr>\n",
       "    <tr>\n",
       "      <th>52</th>\n",
       "      <td>52</td>\n",
       "      <td>0.866667</td>\n",
       "      <td>-458.247681</td>\n",
       "      <td>-6.472252</td>\n",
       "      <td>0.0</td>\n",
       "      <td>458.293385</td>\n",
       "      <td>1.348018</td>\n",
       "      <td>0.300168</td>\n",
       "      <td>540.715942</td>\n",
       "      <td>3.046876</td>\n",
       "      <td>0.0</td>\n",
       "    </tr>\n",
       "    <tr>\n",
       "      <th>53</th>\n",
       "      <td>53</td>\n",
       "      <td>0.883333</td>\n",
       "      <td>-454.249207</td>\n",
       "      <td>-6.578921</td>\n",
       "      <td>0.0</td>\n",
       "      <td>454.296846</td>\n",
       "      <td>1.336132</td>\n",
       "      <td>0.299489</td>\n",
       "      <td>548.286743</td>\n",
       "      <td>3.156524</td>\n",
       "      <td>0.0</td>\n",
       "    </tr>\n",
       "    <tr>\n",
       "      <th>54</th>\n",
       "      <td>54</td>\n",
       "      <td>0.900000</td>\n",
       "      <td>-450.328491</td>\n",
       "      <td>-6.685281</td>\n",
       "      <td>0.0</td>\n",
       "      <td>450.378111</td>\n",
       "      <td>1.324481</td>\n",
       "      <td>0.298823</td>\n",
       "      <td>555.792236</td>\n",
       "      <td>3.267946</td>\n",
       "      <td>0.0</td>\n",
       "    </tr>\n",
       "    <tr>\n",
       "      <th>55</th>\n",
       "      <td>55</td>\n",
       "      <td>0.916667</td>\n",
       "      <td>-446.483124</td>\n",
       "      <td>-6.791339</td>\n",
       "      <td>0.0</td>\n",
       "      <td>446.534771</td>\n",
       "      <td>1.313056</td>\n",
       "      <td>0.298171</td>\n",
       "      <td>563.233643</td>\n",
       "      <td>3.381135</td>\n",
       "      <td>0.0</td>\n",
       "    </tr>\n",
       "    <tr>\n",
       "      <th>56</th>\n",
       "      <td>56</td>\n",
       "      <td>0.933333</td>\n",
       "      <td>-442.710815</td>\n",
       "      <td>-6.897103</td>\n",
       "      <td>0.0</td>\n",
       "      <td>442.764538</td>\n",
       "      <td>1.301851</td>\n",
       "      <td>0.297531</td>\n",
       "      <td>570.612183</td>\n",
       "      <td>3.496087</td>\n",
       "      <td>0.0</td>\n",
       "    </tr>\n",
       "    <tr>\n",
       "      <th>57</th>\n",
       "      <td>57</td>\n",
       "      <td>0.950000</td>\n",
       "      <td>-439.009399</td>\n",
       "      <td>-7.002582</td>\n",
       "      <td>0.0</td>\n",
       "      <td>439.065244</td>\n",
       "      <td>1.290859</td>\n",
       "      <td>0.296904</td>\n",
       "      <td>577.929016</td>\n",
       "      <td>3.612796</td>\n",
       "      <td>0.0</td>\n",
       "    </tr>\n",
       "    <tr>\n",
       "      <th>58</th>\n",
       "      <td>58</td>\n",
       "      <td>0.966667</td>\n",
       "      <td>-435.376740</td>\n",
       "      <td>-7.107781</td>\n",
       "      <td>0.0</td>\n",
       "      <td>435.434755</td>\n",
       "      <td>1.280074</td>\n",
       "      <td>0.296288</td>\n",
       "      <td>585.185303</td>\n",
       "      <td>3.731259</td>\n",
       "      <td>0.0</td>\n",
       "    </tr>\n",
       "    <tr>\n",
       "      <th>59</th>\n",
       "      <td>59</td>\n",
       "      <td>0.983333</td>\n",
       "      <td>-431.810822</td>\n",
       "      <td>-7.212709</td>\n",
       "      <td>0.0</td>\n",
       "      <td>431.871056</td>\n",
       "      <td>1.269489</td>\n",
       "      <td>0.295684</td>\n",
       "      <td>592.382141</td>\n",
       "      <td>3.851471</td>\n",
       "      <td>0.0</td>\n",
       "    </tr>\n",
       "  </tbody>\n",
       "</table>\n",
       "</div>"
      ],
      "text/plain": [
       "    timing.frame  projectile.flight_time  projectile.velocity.z  \\\n",
       "0              0                0.000000            -922.000000   \n",
       "1              1                0.016667            -901.771667   \n",
       "2              2                0.033333            -882.591125   \n",
       "3              3                0.050000            -864.372192   \n",
       "4              4                0.066667            -847.038208   \n",
       "5              5                0.083333            -830.520874   \n",
       "6              6                0.100000            -814.758972   \n",
       "7              7                0.116667            -799.697632   \n",
       "8              8                0.133333            -785.287354   \n",
       "9              9                0.150000            -771.483337   \n",
       "10            10                0.166667            -758.245056   \n",
       "11            11                0.183333            -745.535583   \n",
       "12            12                0.200000            -733.321411   \n",
       "13            13                0.216667            -721.571777   \n",
       "14            14                0.233333            -710.258606   \n",
       "15            15                0.250000            -699.356140   \n",
       "16            16                0.266667            -688.840637   \n",
       "17            17                0.283333            -678.690308   \n",
       "18            18                0.300000            -668.884949   \n",
       "19            19                0.316667            -659.405945   \n",
       "20            20                0.333333            -650.236023   \n",
       "21            21                0.350000            -641.359131   \n",
       "22            22                0.366667            -632.760437   \n",
       "23            23                0.383333            -624.426086   \n",
       "24            24                0.400000            -616.343140   \n",
       "25            25                0.416667            -608.499512   \n",
       "26            26                0.433333            -600.884033   \n",
       "27            27                0.450000            -593.486084   \n",
       "28            28                0.466667            -586.295837   \n",
       "29            29                0.483333            -579.304016   \n",
       "30            30                0.500000            -572.501953   \n",
       "31            31                0.516667            -565.881470   \n",
       "32            32                0.533333            -559.434814   \n",
       "33            33                0.550000            -553.154785   \n",
       "34            34                0.566667            -547.034546   \n",
       "35            35                0.583333            -541.067688   \n",
       "36            36                0.600000            -535.248047   \n",
       "37            37                0.616667            -529.569885   \n",
       "38            38                0.633333            -524.027771   \n",
       "39            39                0.650000            -518.616455   \n",
       "40            40                0.666667            -513.331116   \n",
       "41            41                0.683333            -508.167084   \n",
       "42            42                0.700000            -503.119965   \n",
       "43            43                0.716667            -498.185547   \n",
       "44            44                0.733333            -493.359833   \n",
       "45            45                0.750000            -488.639038   \n",
       "46            46                0.766667            -484.019531   \n",
       "47            47                0.783333            -479.497894   \n",
       "48            48                0.800000            -475.070831   \n",
       "49            49                0.816667            -470.735199   \n",
       "50            50                0.833333            -466.488007   \n",
       "51            51                0.850000            -462.326416   \n",
       "52            52                0.866667            -458.247681   \n",
       "53            53                0.883333            -454.249207   \n",
       "54            54                0.900000            -450.328491   \n",
       "55            55                0.916667            -446.483124   \n",
       "56            56                0.933333            -442.710815   \n",
       "57            57                0.950000            -439.009399   \n",
       "58            58                0.966667            -435.376740   \n",
       "59            59                0.983333            -431.810822   \n",
       "\n",
       "    projectile.velocity.y  projectile.velocity.x  projectile.velocity.length  \\\n",
       "0                0.000000                    0.0                  922.000000   \n",
       "1               -0.163144                    0.0                  901.771682   \n",
       "2               -0.322818                    0.0                  882.591185   \n",
       "3               -0.479298                    0.0                  864.372325   \n",
       "4               -0.632830                    0.0                  847.038444   \n",
       "5               -0.783633                    0.0                  830.521244   \n",
       "6               -0.931905                    0.0                  814.759505   \n",
       "7               -1.077822                    0.0                  799.698358   \n",
       "8               -1.221544                    0.0                  785.288304   \n",
       "9               -1.363215                    0.0                  771.484542   \n",
       "10              -1.502967                    0.0                  758.246546   \n",
       "11              -1.640918                    0.0                  745.537389   \n",
       "12              -1.777179                    0.0                  733.323565   \n",
       "13              -1.911848                    0.0                  721.574310   \n",
       "14              -2.045017                    0.0                  710.261550   \n",
       "15              -2.176770                    0.0                  699.359528   \n",
       "16              -2.307184                    0.0                  688.844501   \n",
       "17              -2.436331                    0.0                  678.694681   \n",
       "18              -2.564276                    0.0                  668.889864   \n",
       "19              -2.691080                    0.0                  659.411436   \n",
       "20              -2.816801                    0.0                  650.242124   \n",
       "21              -2.941491                    0.0                  641.365876   \n",
       "22              -3.065198                    0.0                  632.767861   \n",
       "23              -3.187969                    0.0                  624.434224   \n",
       "24              -3.309845                    0.0                  616.352027   \n",
       "25              -3.430868                    0.0                  608.509184   \n",
       "26              -3.551074                    0.0                  600.894526   \n",
       "27              -3.670498                    0.0                  593.497434   \n",
       "28              -3.789173                    0.0                  586.308082   \n",
       "29              -3.907129                    0.0                  579.317192   \n",
       "30              -4.024396                    0.0                  572.516098   \n",
       "31              -4.141001                    0.0                  565.896621   \n",
       "32              -4.256970                    0.0                  559.451011   \n",
       "33              -4.372326                    0.0                  553.172065   \n",
       "34              -4.487093                    0.0                  547.052948   \n",
       "35              -4.601293                    0.0                  541.087253   \n",
       "36              -4.714946                    0.0                  535.268813   \n",
       "37              -4.828071                    0.0                  529.591893   \n",
       "38              -4.940687                    0.0                  524.051062   \n",
       "39              -5.052812                    0.0                  518.641069   \n",
       "40              -5.164461                    0.0                  513.357094   \n",
       "41              -5.275651                    0.0                  508.194468   \n",
       "42              -5.386397                    0.0                  503.148797   \n",
       "43              -5.496713                    0.0                  498.215870   \n",
       "44              -5.606612                    0.0                  493.391689   \n",
       "45              -5.716107                    0.0                  488.672471   \n",
       "46              -5.825212                    0.0                  484.054583   \n",
       "47              -5.933937                    0.0                  479.534610   \n",
       "48              -6.042295                    0.0                  475.109255   \n",
       "49              -6.150294                    0.0                  470.775375   \n",
       "50              -6.257947                    0.0                  466.529980   \n",
       "51              -6.365263                    0.0                  462.370232   \n",
       "52              -6.472252                    0.0                  458.293385   \n",
       "53              -6.578921                    0.0                  454.296846   \n",
       "54              -6.685281                    0.0                  450.378111   \n",
       "55              -6.791339                    0.0                  446.534771   \n",
       "56              -6.897103                    0.0                  442.764538   \n",
       "57              -7.002582                    0.0                  439.065244   \n",
       "58              -7.107781                    0.0                  435.434755   \n",
       "59              -7.212709                    0.0                  431.871056   \n",
       "\n",
       "    projectile.mach_number  projectile.current_drag_coef  \\\n",
       "0                 0.000000                      0.000000   \n",
       "1                 2.688047                      0.252000   \n",
       "2                 2.629072                      0.374531   \n",
       "3                 2.573152                      0.371228   \n",
       "4                 2.520036                      0.368097   \n",
       "5                 2.469500                      0.365122   \n",
       "6                 2.421345                      0.362292   \n",
       "7                 2.375392                      0.359595   \n",
       "8                 2.331482                      0.357022   \n",
       "9                 2.289470                      0.354563   \n",
       "10                2.249226                      0.352210   \n",
       "11                2.210631                      0.349957   \n",
       "12                2.173578                      0.347795   \n",
       "13                2.137970                      0.345720   \n",
       "14                2.103715                      0.343726   \n",
       "15                2.070733                      0.341808   \n",
       "16                2.038949                      0.339961   \n",
       "17                2.008293                      0.338181   \n",
       "18                1.978702                      0.336464   \n",
       "19                1.950116                      0.334807   \n",
       "20                1.922482                      0.333207   \n",
       "21                1.895750                      0.331659   \n",
       "22                1.869871                      0.330162   \n",
       "23                1.844804                      0.328713   \n",
       "24                1.820508                      0.327309   \n",
       "25                1.796945                      0.325948   \n",
       "26                1.774079                      0.324629   \n",
       "27                1.751879                      0.323348   \n",
       "28                1.730313                      0.322105   \n",
       "29                1.709353                      0.320898   \n",
       "30                1.688971                      0.319724   \n",
       "31                1.669143                      0.318582   \n",
       "32                1.649844                      0.317472   \n",
       "33                1.631052                      0.316391   \n",
       "34                1.612747                      0.315339   \n",
       "35                1.594906                      0.314314   \n",
       "36                1.577514                      0.313315   \n",
       "37                1.560550                      0.312341   \n",
       "38                1.544000                      0.311391   \n",
       "39                1.527846                      0.310464   \n",
       "40                1.512073                      0.309559   \n",
       "41                1.496668                      0.308676   \n",
       "42                1.481616                      0.307813   \n",
       "43                1.466906                      0.306971   \n",
       "44                1.452524                      0.306147   \n",
       "45                1.438460                      0.305341   \n",
       "46                1.424701                      0.304554   \n",
       "47                1.411238                      0.303783   \n",
       "48                1.398060                      0.303029   \n",
       "49                1.385158                      0.302291   \n",
       "50                1.372523                      0.301569   \n",
       "51                1.360146                      0.300861   \n",
       "52                1.348018                      0.300168   \n",
       "53                1.336132                      0.299489   \n",
       "54                1.324481                      0.298823   \n",
       "55                1.313056                      0.298171   \n",
       "56                1.301851                      0.297531   \n",
       "57                1.290859                      0.296904   \n",
       "58                1.280074                      0.296288   \n",
       "59                1.269489                      0.295684   \n",
       "\n",
       "    projectile.position.z  projectile.position.y  projectile.position.x  \n",
       "0                0.000000               0.000000                    0.0  \n",
       "1               15.029529               0.002719                    0.0  \n",
       "2               29.739382               0.008099                    0.0  \n",
       "3               44.145584               0.016088                    0.0  \n",
       "4               58.262886               0.026635                    0.0  \n",
       "5               72.104904               0.039695                    0.0  \n",
       "6               85.684219               0.055227                    0.0  \n",
       "7               99.012512               0.073191                    0.0  \n",
       "8              112.100632               0.093550                    0.0  \n",
       "9              124.958687               0.116270                    0.0  \n",
       "10             137.596100               0.141320                    0.0  \n",
       "11             150.021698               0.168668                    0.0  \n",
       "12             162.243729               0.198288                    0.0  \n",
       "13             174.269928               0.230152                    0.0  \n",
       "14             186.107574               0.264236                    0.0  \n",
       "15             197.763504               0.300515                    0.0  \n",
       "16             209.244186               0.338968                    0.0  \n",
       "17             220.555695               0.379574                    0.0  \n",
       "18             231.703781               0.422312                    0.0  \n",
       "19             242.693878               0.467163                    0.0  \n",
       "20             253.531143               0.514110                    0.0  \n",
       "21             264.220459               0.563134                    0.0  \n",
       "22             274.766479               0.614221                    0.0  \n",
       "23             285.173584               0.667354                    0.0  \n",
       "24             295.445984               0.722518                    0.0  \n",
       "25             305.587646               0.779699                    0.0  \n",
       "26             315.602386               0.838884                    0.0  \n",
       "27             325.493835               0.900059                    0.0  \n",
       "28             335.265442               0.963212                    0.0  \n",
       "29             344.920502               1.028330                    0.0  \n",
       "30             354.462189               1.095404                    0.0  \n",
       "31             363.893555               1.164420                    0.0  \n",
       "32             373.217468               1.235370                    0.0  \n",
       "33             382.436707               1.308242                    0.0  \n",
       "34             391.553955               1.383027                    0.0  \n",
       "35             400.571747               1.459715                    0.0  \n",
       "36             409.492554               1.538297                    0.0  \n",
       "37             418.318726               1.618765                    0.0  \n",
       "38             427.052521               1.701110                    0.0  \n",
       "39             435.696136               1.785324                    0.0  \n",
       "40             444.251648               1.871398                    0.0  \n",
       "41             452.721100               1.959325                    0.0  \n",
       "42             461.106445               2.049098                    0.0  \n",
       "43             469.409546               2.140710                    0.0  \n",
       "44             477.632202               2.234154                    0.0  \n",
       "45             485.776184               2.329422                    0.0  \n",
       "46             493.843170               2.426509                    0.0  \n",
       "47             501.834808               2.525408                    0.0  \n",
       "48             509.752655               2.626113                    0.0  \n",
       "49             517.598267               2.728618                    0.0  \n",
       "50             525.373047               2.832917                    0.0  \n",
       "51             533.078491               2.939005                    0.0  \n",
       "52             540.715942               3.046876                    0.0  \n",
       "53             548.286743               3.156524                    0.0  \n",
       "54             555.792236               3.267946                    0.0  \n",
       "55             563.233643               3.381135                    0.0  \n",
       "56             570.612183               3.496087                    0.0  \n",
       "57             577.929016               3.612796                    0.0  \n",
       "58             585.185303               3.731259                    0.0  \n",
       "59             592.382141               3.851471                    0.0  "
      ]
     },
     "execution_count": 92,
     "metadata": {},
     "output_type": "execute_result"
    }
   ],
   "source": [
    "pd.concat([\n",
    "  df[[\n",
    "    'timing.frame',\n",
    "    'projectile.flight_time',\n",
    "    'projectile.velocity.z',  # Rate Z\n",
    "    'projectile.velocity.y',  # Rate Y\n",
    "    'projectile.velocity.x',  # Rate X\n",
    "    'projectile.velocity.length',  # Vel m/s\n",
    "    'projectile.mach_number',      # Vel M\n",
    "    'projectile.current_drag_coef' # Cd\n",
    "  ]],\n",
    "  df[[\n",
    "    'projectile.position.z',  # Dist (Z)\n",
    "    'projectile.position.y',  # Drop (Y)\n",
    "    'projectile.position.x',  # Drift (X)\n",
    "    ]].abs()\n",
    "  ], axis=1)"
   ]
  },
  {
   "cell_type": "code",
   "execution_count": null,
   "id": "e92b5dbe",
   "metadata": {},
   "outputs": [],
   "source": []
  }
 ],
 "metadata": {
  "kernelspec": {
   "display_name": ".venv",
   "language": "python",
   "name": "python3"
  },
  "language_info": {
   "codemirror_mode": {
    "name": "ipython",
    "version": 3
   },
   "file_extension": ".py",
   "mimetype": "text/x-python",
   "name": "python",
   "nbconvert_exporter": "python",
   "pygments_lexer": "ipython3",
   "version": "3.13.3"
  }
 },
 "nbformat": 4,
 "nbformat_minor": 5
}
