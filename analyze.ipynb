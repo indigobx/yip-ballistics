{
 "cells": [
  {
   "cell_type": "code",
   "execution_count": 552,
   "id": "f9a3a90d",
   "metadata": {},
   "outputs": [],
   "source": [
    "import os\n",
    "import json\n",
    "import pandas as pd\n",
    "import numpy as np\n",
    "import plotly.graph_objects as go\n",
    "import humanize"
   ]
  },
  {
   "cell_type": "code",
   "execution_count": 553,
   "id": "9b676f37",
   "metadata": {},
   "outputs": [],
   "source": [
    "data_dir = './data_dump'\n",
    "pd.set_option('display.max_columns', None)"
   ]
  },
  {
   "cell_type": "code",
   "execution_count": 554,
   "id": "9a757447",
   "metadata": {},
   "outputs": [],
   "source": [
    "def make_hover_data(dataframe):\n",
    "    # Список обязательных колонокdef make_hover_data(dataframe):\n",
    "  # Список обязательных колонок\n",
    "  base_cols = [\n",
    "    'timing.frame',\n",
    "    'projectile.flight_time',\n",
    "    'projectile.velocity.z',\n",
    "    'projectile.velocity.y',\n",
    "    'projectile.velocity.x',\n",
    "    'projectile.velocity.length',\n",
    "    'projectile.mach_number',\n",
    "    'projectile.current_drag_coef',\n",
    "    'projectile.kinetic_energy',  # будет обработан отдельно\n",
    "    'projectile.position.z',\n",
    "    'projectile.position.y',\n",
    "    'projectile.position.x'\n",
    "  ]\n",
    "  \n",
    "  # Создаём копию, добавляем отсутствующие как NaN\n",
    "  safe_dataframe = dataframe.copy()\n",
    "  for col in base_cols:\n",
    "    if col not in safe_dataframe.columns:\n",
    "      safe_dataframe[col] = -1\n",
    "\n",
    "  # Человеко-читаемая энергия\n",
    "  energy_col = safe_dataframe['projectile.kinetic_energy'].apply(\n",
    "    lambda x: f\"{humanize.metric(x)}J\" if pd.notnull(x) else \"–\"\n",
    "  )\n",
    "\n",
    "  # Сборка customdata\n",
    "  customdata = pd.concat([\n",
    "    safe_dataframe[[\n",
    "      'timing.frame',\n",
    "      'projectile.flight_time',\n",
    "      'projectile.velocity.z',\n",
    "      'projectile.velocity.y',\n",
    "      'projectile.velocity.x',\n",
    "      'projectile.velocity.length',\n",
    "      'projectile.mach_number',\n",
    "      'projectile.current_drag_coef'\n",
    "    ]],\n",
    "    energy_col,\n",
    "    safe_dataframe[[\n",
    "      'projectile.position.z',\n",
    "      'projectile.position.y',\n",
    "      'projectile.position.x'\n",
    "    ]].abs()\n",
    "  ], axis=1)\n",
    "\n",
    "  # Готовый шаблон\n",
    "  hovertemplate = (\n",
    "    \"Frame %{customdata[0]} (%{customdata[1]:.5f}s)<br>\" +\n",
    "    \"Dist: %{customdata[9]:.2f} m | Drop: %{customdata[10]:.3f} m | Drift: %{customdata[11]:.5f} m<br>\" +\n",
    "    \"Rate: (%{customdata[2]:.4f}, %{customdata[3]:.4f}, %{customdata[4]:.4f}) m/s<br>\" +\n",
    "    \"Velocity: %{customdata[5]:.2f} m/s (%{customdata[6]:.3f} M)<br>\" +\n",
    "    \"Kinetic Energy: %{customdata[8]}<br>\" +\n",
    "    \"Cd: %{customdata[7]:.3f}\" +\n",
    "    \"<extra></extra>\"\n",
    "  )\n",
    "\n",
    "  return customdata, hovertemplate"
   ]
  },
  {
   "cell_type": "code",
   "execution_count": 555,
   "id": "db75a736",
   "metadata": {},
   "outputs": [],
   "source": [
    "def match_by_nearest(sample_times, df_times, df, tolerance=None):\n",
    "  matched_rows = []\n",
    "  used_indices = set()\n",
    "  \n",
    "  for t in sample_times:\n",
    "    # Вычислить разницу\n",
    "    differences = np.abs(df_times - t)\n",
    "    \n",
    "    # Исключить уже использованные индексы\n",
    "    differences[list(used_indices)] = np.inf\n",
    "    \n",
    "    # Найти ближайший индекс\n",
    "    best_idx = differences.idxmin()\n",
    "    \n",
    "    # Проверка на допуск (если нужно)\n",
    "    if tolerance is not None and differences[best_idx] > tolerance:\n",
    "      matched_rows.append(None)\n",
    "    else:\n",
    "      matched_rows.append(df.loc[best_idx])\n",
    "      used_indices.add(best_idx)\n",
    "  \n",
    "  # Вернуть как DataFrame, пропуская None\n",
    "  return pd.DataFrame(matched_rows).dropna()"
   ]
  },
  {
   "cell_type": "code",
   "execution_count": 556,
   "id": "23d5945b",
   "metadata": {},
   "outputs": [],
   "source": [
    "def prepare_sample(dataframe):\n",
    "  dataframe['projectile.position.x'] = -dataframe['windage_in'] / 39.37\n",
    "  dataframe['projectile.position.y'] = dataframe['elev_in'] / 39.37\n",
    "  dataframe['projectile.position.z'] = -dataframe['range_yd'] * 0.9144\n",
    "  dataframe['projectile.kinetic_energy'] = dataframe['energy_ft_lbf'] * 1.3558\n",
    "  dataframe['projectile.velocity.length'] = dataframe['vel_xy_ft_s'] * 0.3048\n",
    "  dataframe['projectile.mach_number'] = dataframe['projectile.velocity.length'] / (1116.0 * 0.3048)\n",
    "  return dataframe"
   ]
  },
  {
   "cell_type": "code",
   "execution_count": 557,
   "id": "d25f8852",
   "metadata": {},
   "outputs": [],
   "source": [
    "sample_m855 = pd.read_csv('./sample_m855_62gr.csv')\n",
    "sample_9mm = pd.read_csv('./samlpe_9x19_plus_p.csv')\n",
    "sample_m855 = prepare_sample(sample_m855)\n",
    "sample_9mm = prepare_sample(sample_9mm)"
   ]
  },
  {
   "cell_type": "code",
   "execution_count": 558,
   "id": "f6ba9368",
   "metadata": {},
   "outputs": [],
   "source": [
    "files = os.listdir(data_dir)\n",
    "#   with open(os.path.join(data_dir, fn), 'r') as f:\n",
    "#     data = json.load(f)\n",
    "#     df_raw = pd.json_normalize(data)\n",
    "with open(os.path.join(data_dir, files[-1]), 'r') as f:\n",
    "  data = json.load(f)\n",
    "  df_raw = pd.json_normalize(data)"
   ]
  },
  {
   "cell_type": "code",
   "execution_count": 559,
   "id": "5ac101df",
   "metadata": {},
   "outputs": [
    {
     "data": {
      "text/plain": [
       "{'medium.base_density': np.float64(1050.0),\n",
       " 'medium.damping': np.float64(0.5),\n",
       " 'medium.poisson_ratio': np.float64(0.49),\n",
       " 'medium.rha_coef': np.float64(0.04),\n",
       " 'medium.type': 'solid',\n",
       " 'medium.young_modulus': np.float64(100000.0),\n",
       " 'naming.ammo_name': '5.56x45_M855',\n",
       " 'naming.projectile_uid': 'proj_BqhS9inx',\n",
       " 'naming.weapon_name': 'SCAR_L_CQC',\n",
       " 'projectile.ammo': '<Resource#-9223371995398273689>',\n",
       " 'projectile.caliber': np.float64(5.7),\n",
       " 'projectile.core_caliber': np.float64(5.4),\n",
       " 'projectile.core_hardness': np.float64(0.6),\n",
       " 'projectile.core_mass': np.float64(2.0),\n",
       " 'projectile.cross_section': np.float64(2.55175863287831e-05),\n",
       " 'projectile.drag_coef': np.float64(0.28),\n",
       " 'projectile.fragmentation_chance': np.float64(0.1),\n",
       " 'projectile.fragmentation_count': np.int64(0),\n",
       " 'projectile.fragments_max': np.int64(4),\n",
       " 'projectile.fragments_min': np.int64(2),\n",
       " 'projectile.impact_count': np.int64(0),\n",
       " 'projectile.kind': 'normal',\n",
       " 'projectile.length': np.float64(23.0),\n",
       " 'projectile.length_diameter_ratio': np.float64(0.0),\n",
       " 'projectile.magnus_effect_factor': np.float64(0.0),\n",
       " 'projectile.mass': np.float64(4.0),\n",
       " 'projectile.penetration_count': np.int64(0),\n",
       " 'projectile.ricochet_count': np.int64(0),\n",
       " 'projectile.ricochet_max_angle': np.float64(68.0),\n",
       " 'projectile.ricochet_min_angle': np.float64(12.0),\n",
       " 'projectile.spin_decay_rate': np.float64(0.998),\n",
       " 'projectile.stability_factor': np.float64(1.0),\n",
       " 'projectile.state': 'normal',\n",
       " 'projectile.tumble_time': np.float64(0.0),\n",
       " 'projectile.uid': 'proj_BqhS9inx',\n",
       " 'projectile.weapon': '<Resource#-9223371995314387595>',\n",
       " 'timing.delta': np.float64(0.00166666666666667)}"
      ]
     },
     "execution_count": 559,
     "metadata": {},
     "output_type": "execute_result"
    }
   ],
   "source": [
    "static_data = {}\n",
    "static_cols = ['angular_velocity', 'position', 'velocity', 'rotation']\n",
    "for col in df_raw.columns:\n",
    "  if len(df_raw[col].unique()) == 1 and all(stc not in col for stc in static_cols):\n",
    "    static_data[col] = df_raw[col].unique()[0]\n",
    "df = df_raw.drop(list(static_data.keys()), axis=1)\n",
    "static_data"
   ]
  },
  {
   "cell_type": "code",
   "execution_count": null,
   "id": "a55719f0",
   "metadata": {},
   "outputs": [
    {
     "ename": "KeyError",
     "evalue": "'medium.speed_of_sound'",
     "output_type": "error",
     "traceback": [
      "\u001b[31m---------------------------------------------------------------------------\u001b[39m",
      "\u001b[31mKeyError\u001b[39m                                  Traceback (most recent call last)",
      "\u001b[36mCell\u001b[39m\u001b[36m \u001b[39m\u001b[32mIn[560]\u001b[39m\u001b[32m, line 4\u001b[39m\n\u001b[32m      2\u001b[39m df[\u001b[33m'\u001b[39m\u001b[33mprojectile.position.length\u001b[39m\u001b[33m'\u001b[39m] = (df[\u001b[33m'\u001b[39m\u001b[33mprojectile.position.x\u001b[39m\u001b[33m'\u001b[39m]**\u001b[32m2\u001b[39m + df[\u001b[33m'\u001b[39m\u001b[33mprojectile.position.y\u001b[39m\u001b[33m'\u001b[39m]**\u001b[32m2\u001b[39m + df[\u001b[33m'\u001b[39m\u001b[33mprojectile.position.z\u001b[39m\u001b[33m'\u001b[39m]**\u001b[32m2\u001b[39m)**\u001b[32m0.5\u001b[39m\n\u001b[32m      3\u001b[39m df[\u001b[33m'\u001b[39m\u001b[33mprojectile.kinetic_energy\u001b[39m\u001b[33m'\u001b[39m] = \u001b[32m0.5\u001b[39m * static_data[\u001b[33m'\u001b[39m\u001b[33mprojectile.mass\u001b[39m\u001b[33m'\u001b[39m] * df[\u001b[33m'\u001b[39m\u001b[33mprojectile.velocity.length\u001b[39m\u001b[33m'\u001b[39m] ** \u001b[32m2\u001b[39m *\u001b[32m0.001\u001b[39m\n\u001b[32m----> \u001b[39m\u001b[32m4\u001b[39m df[\u001b[33m'\u001b[39m\u001b[33mprojectile.mach_number\u001b[39m\u001b[33m'\u001b[39m] = df[\u001b[33m'\u001b[39m\u001b[33mprojectile.velocity.length\u001b[39m\u001b[33m'\u001b[39m] / \u001b[43mstatic_data\u001b[49m\u001b[43m[\u001b[49m\u001b[33;43m'\u001b[39;49m\u001b[33;43mmedium.speed_of_sound\u001b[39;49m\u001b[33;43m'\u001b[39;49m\u001b[43m]\u001b[49m\n\u001b[32m      5\u001b[39m df.columns\n",
      "\u001b[31mKeyError\u001b[39m: 'medium.speed_of_sound'"
     ]
    }
   ],
   "source": [
    "df['projectile.velocity.length'] = (df['projectile.velocity.x']**2 + df['projectile.velocity.y']**2 + df['projectile.velocity.z']**2)**0.5\n",
    "df['projectile.position.length'] = (df['projectile.position.x']**2 + df['projectile.position.y']**2 + df['projectile.position.z']**2)**0.5\n",
    "df['projectile.kinetic_energy'] = 0.5 * static_data['projectile.mass'] * df['projectile.velocity.length'] ** 2 *0.001\n",
    "df['projectile.mach_number'] = df['projectile.velocity.length'] / static_data['medium.speed_of_sound']\n",
    "df.columns"
   ]
  },
  {
   "cell_type": "code",
   "execution_count": null,
   "id": "e4e3b77b",
   "metadata": {},
   "outputs": [
    {
     "data": {
      "application/vnd.plotly.v1+json": {
       "config": {
        "plotlyServerURL": "https://plot.ly"
       },
       "data": [
        {
         "customdata": [
          [
           0,
           0,
           -922,
           0,
           0,
           922,
           0.6221322537112011,
           0,
           "1.70 kJ",
           0,
           0,
           0
          ],
          [
           1,
           0.00166666666666667,
           -469.851196289063,
           -2.57591559194026e-10,
           0,
           469.851196289063,
           0.317038593987222,
           0.28,
           "442J",
           0.783085346221924,
           4.29319286284618e-13,
           0
          ],
          [
           2,
           0.00333333333333333,
           -239.436187744141,
           -2.57591559194026e-10,
           0,
           239.436187744141,
           0.16156287971939337,
           0.28,
           "115J",
           1.18214559555054,
           8.58638572569237e-13,
           0
          ],
          [
           3,
           0.005,
           -115.834342956543,
           -2.57591559194026e-10,
           0,
           115.834342956543,
           0.07816082520684413,
           0.28,
           "26.8J",
           1.37520289421082,
           1.28795780464375e-12,
           0
          ],
          [
           4,
           0.00666666666666667,
           -57.9049453735352,
           -2.57591559194026e-10,
           0,
           57.9049453735352,
           0.03907216287013171,
           0.28,
           "6.71J",
           1.47171115875244,
           1.71727714513847e-12,
           0
          ],
          [
           5,
           0.00833333333333333,
           -42.7998504638672,
           -2.57591559194026e-10,
           0,
           42.7998504638672,
           0.028879791136212685,
           0.28,
           "3.66J",
           1.54304420948029,
           2.1465964856332e-12,
           0
          ],
          [
           6,
           0.01,
           -34.3242111206055,
           -2.57591559194026e-10,
           0,
           34.3242111206055,
           0.02316073624872166,
           0.28,
           "2.36J",
           1.60025119781494,
           2.57591582612793e-12,
           0
          ],
          [
           7,
           0.0116666666666667,
           -28.7371063232422,
           -2.57591559194026e-10,
           0,
           28.7371063232422,
           0.019390760002187722,
           0.28,
           "1.65J",
           1.64814639091492,
           3.00523516662266e-12,
           0
          ],
          [
           8,
           0.0133333333333333,
           -24.7272834777832,
           -2.57591559194026e-10,
           0,
           24.7272834777832,
           0.016685076570703915,
           0.28,
           "1.22J",
           1.6893584728241,
           3.43455450711738e-12,
           0
          ],
          [
           9,
           0.015,
           -21.6894016265869,
           -2.57591559194026e-10,
           0,
           21.6894016265869,
           0.014635223769626789,
           0.28,
           "941 mJ",
           1.72550749778748,
           3.86387363077167e-12,
           0
          ],
          [
           10,
           0.0166666666666667,
           -19.2988109588623,
           -2.57591559194026e-10,
           0,
           19.2988109588623,
           0.013022139648355129,
           0.28,
           "745 mJ",
           1.7576721906662,
           4.2931929712664e-12,
           0
          ],
          [
           11,
           0.0183333333333333,
           -17.3636150360107,
           -2.57591559194026e-10,
           0,
           17.3636150360107,
           0.011716339430506545,
           0.28,
           "603 mJ",
           1.78661155700684,
           4.72251231176113e-12,
           0
          ],
          [
           12,
           0.02,
           -15.7622356414795,
           -2.57591559194026e-10,
           0,
           15.7622356414795,
           0.010635786532712212,
           0.28,
           "497 mJ",
           1.81288194656372,
           5.15183165225586e-12,
           0
          ],
          [
           13,
           0.0216666666666667,
           -14.4135398864746,
           -2.57591559194026e-10,
           0,
           14.4135398864746,
           0.009725735415974764,
           0.28,
           "416 mJ",
           1.83690452575684,
           5.58115099275058e-12,
           0
          ],
          [
           14,
           0.0233333333333333,
           -13.2610998153687,
           -2.57591559194026e-10,
           0,
           13.2610998153687,
           0.008948110536686033,
           0.28,
           "352 mJ",
           1.85900640487671,
           6.01047033324531e-12,
           0
          ],
          [
           15,
           0.025,
           -12.2643756866455,
           -2.57591559194026e-10,
           0,
           12.2643756866455,
           0.008275557143485494,
           0.28,
           "301 mJ",
           1.8794469833374,
           6.43978967374004e-12,
           0
          ],
          [
           16,
           0.0266666666666667,
           -11.3934106826782,
           -2.57591559194026e-10,
           0,
           11.3934106826782,
           0.007687861459297031,
           0.28,
           "260 mJ",
           1.89843595027924,
           6.86910901423476e-12,
           0
          ],
          [
           17,
           0.0283333333333333,
           -10.6255760192871,
           -2.57591559194026e-10,
           0,
           10.6255760192871,
           0.0071697543989791505,
           0.28,
           "226 mJ",
           1.91614520549774,
           7.29842835472949e-12,
           0
          ],
          [
           18,
           0.03,
           -9.94342613220215,
           -2.57591559194026e-10,
           0,
           9.94342613220215,
           0.006709464326722099,
           0.28,
           "198 mJ",
           1.9327175617218,
           7.72774726154335e-12,
           0
          ],
          [
           19,
           0.0316666666666667,
           -9.33328437805176,
           -2.57591559194026e-10,
           0,
           9.33328437805176,
           0.006297762738226558,
           0.28,
           "174 mJ",
           1.94827306270599,
           8.15706616835721e-12,
           0
          ],
          [
           20,
           0.0333333333333333,
           -8.78427028656006,
           -2.57591559194026e-10,
           0,
           8.78427028656006,
           0.005927307885668057,
           0.28,
           "154 mJ",
           1.96291351318359,
           8.58638507517107e-12,
           0
          ],
          [
           21,
           0.035,
           -8.28761291503906,
           -2.57591559194026e-10,
           0,
           8.28761291503906,
           0.005592181454142416,
           0.28,
           "137 mJ",
           1.97672617435455,
           9.01570398198492e-12,
           0
          ],
          [
           22,
           0.0366666666666667,
           -7.83615684509277,
           -2.57591559194026e-10,
           0,
           7.83615684509277,
           0.005287555226108482,
           0.28,
           "123 mJ",
           1.98978638648987,
           9.44502288879878e-12,
           0
          ],
          [
           23,
           0.0383333333333333,
           -7.4240083694458,
           -2.57591559194026e-10,
           0,
           7.4240083694458,
           0.005009452341056545,
           0.28,
           "110 mJ",
           2.00215983390808,
           9.87434179561264e-12,
           0
          ],
          [
           24,
           0.04,
           -7.04626417160034,
           -2.57591559194026e-10,
           0,
           7.04626417160034,
           0.004754564218353806,
           0.28,
           "99.3 mJ",
           2.01390361785889,
           1.03036607024265e-11,
           0
          ],
          [
           25,
           0.0416666666666667,
           -6.69881200790405,
           -2.57591559194026e-10,
           0,
           6.69881200790405,
           0.0045201160647125845,
           0.28,
           "89.7 mJ",
           2.02506828308105,
           1.07329796092404e-11,
           0
          ],
          [
           26,
           0.0433333333333333,
           -6.37817573547363,
           -2.57591559194026e-10,
           0,
           6.37817573547363,
           0.004303762304638077,
           0.28,
           "81.4 mJ",
           2.03569865226746,
           1.11622985160542e-11,
           0
          ],
          [
           27,
           0.045,
           -6.08139371871948,
           -2.57591559194026e-10,
           0,
           6.08139371871948,
           0.0041035045335489065,
           0.28,
           "74.0 mJ",
           2.04583430290222,
           1.15916174228681e-11,
           0
          ],
          [
           28,
           0.0466666666666666,
           -5.80592775344849,
           -2.57591559194026e-10,
           0,
           5.80592775344849,
           0.0039176300630556615,
           0.28,
           "67.4 mJ",
           2.05551075935364,
           1.20209363296819e-11,
           0
          ],
          [
           29,
           0.0483333333333333,
           -5.54959201812744,
           -2.57591559194026e-10,
           0,
           5.54959201812744,
           0.0037446639798430765,
           0.28,
           "61.6 mJ",
           2.0647599697113,
           1.24502552364958e-11,
           0
          ],
          [
           30,
           0.05,
           -5.31049156188965,
           -2.57591559194026e-10,
           0,
           5.31049156188965,
           0.003583327639601653,
           0.28,
           "56.4 mJ",
           2.07361078262329,
           1.28795741433096e-11,
           0
          ],
          [
           31,
           0.0516666666666666,
           -5.08697462081909,
           -2.57591559194026e-10,
           0,
           5.08697462081909,
           0.0034325064917807625,
           0.28,
           "51.8 mJ",
           2.08208918571472,
           1.33088930501235e-11,
           0
          ],
          [
           32,
           0.0533333333333333,
           -4.97713708877563,
           -2.62848520726777e-10,
           0,
           4.97713708877563,
           0.003358392097689359,
           0.28,
           "49.5 mJ",
           2.0903844833374,
           1.37469740452145e-11,
           0
          ],
          [
           33,
           0.055,
           -4.8719916343689,
           -2.62848520726777e-10,
           0,
           4.8719916343689,
           0.003287443747887247,
           0.28,
           "47.5 mJ",
           2.09850454330444,
           1.41850550403055e-11,
           0
          ],
          [
           34,
           0.0566666666666666,
           -4.77124166488647,
           -2.62848520726777e-10,
           0,
           4.77124166488647,
           0.0032194613123390486,
           0.28,
           "45.5 mJ",
           2.10645651817322,
           1.46231360353966e-11,
           0
          ],
          [
           35,
           0.0583333333333333,
           -4.67461538314819,
           -2.62848520726777e-10,
           0,
           4.67461538314819,
           0.00315426139213778,
           0.28,
           "43.7 mJ",
           2.1142475605011,
           1.50612161631258e-11,
           0
          ],
          [
           36,
           0.0599999999999999,
           -4.58186388015747,
           -2.62848520726777e-10,
           0,
           4.58186388015747,
           0.003091676032494919,
           0.28,
           "42.0 mJ",
           2.12188410758972,
           1.54992962908551e-11,
           0
          ],
          [
           37,
           0.0616666666666666,
           -4.49275636672974,
           -2.62848520726777e-10,
           0,
           4.49275636672974,
           0.0030315495052157487,
           0.28,
           "40.4 mJ",
           2.12937211990356,
           1.59373764185844e-11,
           0
          ],
          [
           38,
           0.0633333333333333,
           -4.40708112716675,
           -2.62848520726777e-10,
           0,
           4.40708112716675,
           0.0029737389522042847,
           0.28,
           "38.8 mJ",
           2.13671731948853,
           1.63754565463137e-11,
           0
          ]
         ],
         "hovertemplate": "Frame %{customdata[0]} (%{customdata[1]:.5f}s)<br>Dist: %{customdata[9]:.2f} m | Drop: %{customdata[10]:.3f} m | Drift: %{customdata[11]:.5f} m<br>Rate: (%{customdata[2]:.4f}, %{customdata[3]:.4f}, %{customdata[4]:.4f}) m/s<br>Velocity: %{customdata[5]:.2f} m/s (%{customdata[6]:.3f} M)<br>Kinetic Energy: %{customdata[8]}<br>Cd: %{customdata[7]:.3f}<extra></extra>",
         "line": {
          "cmax": 3,
          "cmin": 0,
          "color": {
           "bdata": "iD5v5oHo4z8crS8+XErUP2I5UqoXrsQ/G34XDFkCtD+QImw7RAGkP00IyPmpkp0/TUr1snK3lz/WRjfgK9uTP5ZJz4jkFZE/hHeuexL5jT9cHU//WauKP8N/dnW8/oc/bhWaGjfIhT/+S1QcFuuDP52w7RBjU4I/QrJMesbygD8bprOYTn1/P3qcn0oIXn0/SBG2HWJ7ez/sePrPrst5P900W5g7R3g//GdXx9Pndj8U01lMZ6h1P4SAnJ/KhHQ/S2cxnYV5cz/9xsBqr4NyPzsjkmXSoHE//0tUHNbOcD/uePrP7gtwP/9xfiohrW4/z/C7YMhabT9NJQTkfB5sP6JLQQcPg2s/8sRO7ETuaj+874Ihs19qP7JptjD31mk/0mxh7rZTaT+3OWW/ntVoP7FoffFhXGg/",
           "dtype": "f8"
          },
          "colorbar": {
           "len": 0.5,
           "title": {
            "text": "Mach Number"
           },
           "y": 0.5
          },
          "colorscale": [
           [
            0,
            "#f29"
           ],
           [
            0.3333333333333333,
            "#4af"
           ],
           [
            0.3333333333333333,
            "#f00"
           ],
           [
            1,
            "#ff0"
           ]
          ],
          "width": 5
         },
         "mode": "lines",
         "name": "YIP",
         "type": "scatter3d",
         "x": {
          "bdata": "AAAAAAAAAAAAAAAAAAAAAAAAAAAAAAAAAAAAAAAAAAAAAAAAAAAAAAAAAAAAAAAAAAAAAAAAAAAAAAAAAAAAAAAAAAAAAAAAAAAAAAAAAAAAAAAAAAAAAAAAAAAAAAAAAAAAAAAAAAAAAAAAAAAAAAAAAAAAAAAAAAAAAAAAAAAAAAAAAAAAAAAAAAAAAAAAAAAAAAAAAAAAAAAAAAAAAAAAAAAAAAAAAAAAAAAAAAAAAAAAAAAAAAAAAAAAAAAAAAAAAAAAAAAAAAAAAAAAAAAAAAAAAAAAAAAAAAAAAAAAAAAAAAAAAAAAAAAAAAAAAAAAAAAAAAAAAAAAAAAAAAAAAAAAAAAAAAAAAAAAAAAAAAAAAAAAAAAAAAAAAAAAAAAAAAAAAAAAAAAAAAAAAAAAAAAAAAAA",
          "dtype": "f8"
         },
         "y": {
          "bdata": "AAAAAAAAAAACAAAACQ/pvw0AAIAR6vK/FQAAwNQA9r/6////IIz3vxQAACBPsPi/+v///6Ca+b8OAADAzl76vw8AAMCcB/u/FAAAwK2b+78GAADgbB/8vxIAAAD2lfy//f//f5AB/b8SAAAA9mP9vwUAAIB9vv2/9f///zYS/r8TAABg/l/+v/j//9+HqP6/+P//P2ns/r/w//9fICz/v+////8XaP+/8f//n6ug/78IAABAKtb/v/7//19sBADABwAAgHkcAMD1////VjMAwAkAAGAcSQDA/P//X95dAMAFAACgr3EAwPj//9+ghADA/v//P8GWAMD8//9fHqgAwPv//38buQDA+P//v7zJAMAFAADgBdoAwAMAAKD66QDA/P//X575AMD2//8/9AgBwAoAAED/FwHA",
          "dtype": "f8"
         },
         "z": {
          "bdata": "AAAAAAAAAAD3//+/7TVevQEAAMDtNW69EAAAQHKodr3t//+/7TV+vf7//5+04YK9BQAAYHKohr0MAAAgMG+Kvfv//9/tNY69+v//v1X+kL3+//+ftOGSvQEAAIATxZS9BQAAYHKolr38//8/0YuYvQAAACAwb5q9AwAAAI9SnL37///f7TWevf///1+mDKC9AAAAwFX+oL0BAAAgBfChvQMAAIC04aK9/v//32PTo73///8/E8WkvQAAAKDCtqW9AQAAAHKopr0bAABgIZqnvff//7/Qi6i9EQAAIIB9qb3t//9/L2+qvQcAAODeYKu94///P45SrL39//+fPUStvfP//7/bOq696P//33kxr70OAAAADBSwvfX///9aj7C9/P///6kKsb0CAAAA+YWxvQkAAABIAbK9",
          "dtype": "f8"
         }
        }
       ],
       "layout": {
        "font": {
         "color": "white"
        },
        "margin": {
         "b": 0,
         "l": 0,
         "r": 0,
         "t": 10
        },
        "paper_bgcolor": "#333",
        "plot_bgcolor": "#444",
        "scene": {
         "aspectmode": "manual",
         "aspectratio": {
          "x": 0.5,
          "y": 2.5,
          "z": 0.5
         },
         "camera": {
          "eye": {
           "x": -1.5,
           "y": 0,
           "z": 0
          }
         },
         "xaxis": {
          "backgroundcolor": "#444",
          "color": "white",
          "gridcolor": "#666",
          "showbackground": true,
          "zerolinecolor": "#666"
         },
         "yaxis": {
          "backgroundcolor": "#444",
          "color": "white",
          "gridcolor": "#666",
          "showbackground": true,
          "zerolinecolor": "#666"
         },
         "zaxis": {
          "backgroundcolor": "#444",
          "color": "white",
          "gridcolor": "#666",
          "showbackground": true,
          "zerolinecolor": "#666"
         }
        },
        "template": {
         "data": {
          "bar": [
           {
            "error_x": {
             "color": "#2a3f5f"
            },
            "error_y": {
             "color": "#2a3f5f"
            },
            "marker": {
             "line": {
              "color": "#E5ECF6",
              "width": 0.5
             },
             "pattern": {
              "fillmode": "overlay",
              "size": 10,
              "solidity": 0.2
             }
            },
            "type": "bar"
           }
          ],
          "barpolar": [
           {
            "marker": {
             "line": {
              "color": "#E5ECF6",
              "width": 0.5
             },
             "pattern": {
              "fillmode": "overlay",
              "size": 10,
              "solidity": 0.2
             }
            },
            "type": "barpolar"
           }
          ],
          "carpet": [
           {
            "aaxis": {
             "endlinecolor": "#2a3f5f",
             "gridcolor": "white",
             "linecolor": "white",
             "minorgridcolor": "white",
             "startlinecolor": "#2a3f5f"
            },
            "baxis": {
             "endlinecolor": "#2a3f5f",
             "gridcolor": "white",
             "linecolor": "white",
             "minorgridcolor": "white",
             "startlinecolor": "#2a3f5f"
            },
            "type": "carpet"
           }
          ],
          "choropleth": [
           {
            "colorbar": {
             "outlinewidth": 0,
             "ticks": ""
            },
            "type": "choropleth"
           }
          ],
          "contour": [
           {
            "colorbar": {
             "outlinewidth": 0,
             "ticks": ""
            },
            "colorscale": [
             [
              0,
              "#0d0887"
             ],
             [
              0.1111111111111111,
              "#46039f"
             ],
             [
              0.2222222222222222,
              "#7201a8"
             ],
             [
              0.3333333333333333,
              "#9c179e"
             ],
             [
              0.4444444444444444,
              "#bd3786"
             ],
             [
              0.5555555555555556,
              "#d8576b"
             ],
             [
              0.6666666666666666,
              "#ed7953"
             ],
             [
              0.7777777777777778,
              "#fb9f3a"
             ],
             [
              0.8888888888888888,
              "#fdca26"
             ],
             [
              1,
              "#f0f921"
             ]
            ],
            "type": "contour"
           }
          ],
          "contourcarpet": [
           {
            "colorbar": {
             "outlinewidth": 0,
             "ticks": ""
            },
            "type": "contourcarpet"
           }
          ],
          "heatmap": [
           {
            "colorbar": {
             "outlinewidth": 0,
             "ticks": ""
            },
            "colorscale": [
             [
              0,
              "#0d0887"
             ],
             [
              0.1111111111111111,
              "#46039f"
             ],
             [
              0.2222222222222222,
              "#7201a8"
             ],
             [
              0.3333333333333333,
              "#9c179e"
             ],
             [
              0.4444444444444444,
              "#bd3786"
             ],
             [
              0.5555555555555556,
              "#d8576b"
             ],
             [
              0.6666666666666666,
              "#ed7953"
             ],
             [
              0.7777777777777778,
              "#fb9f3a"
             ],
             [
              0.8888888888888888,
              "#fdca26"
             ],
             [
              1,
              "#f0f921"
             ]
            ],
            "type": "heatmap"
           }
          ],
          "histogram": [
           {
            "marker": {
             "pattern": {
              "fillmode": "overlay",
              "size": 10,
              "solidity": 0.2
             }
            },
            "type": "histogram"
           }
          ],
          "histogram2d": [
           {
            "colorbar": {
             "outlinewidth": 0,
             "ticks": ""
            },
            "colorscale": [
             [
              0,
              "#0d0887"
             ],
             [
              0.1111111111111111,
              "#46039f"
             ],
             [
              0.2222222222222222,
              "#7201a8"
             ],
             [
              0.3333333333333333,
              "#9c179e"
             ],
             [
              0.4444444444444444,
              "#bd3786"
             ],
             [
              0.5555555555555556,
              "#d8576b"
             ],
             [
              0.6666666666666666,
              "#ed7953"
             ],
             [
              0.7777777777777778,
              "#fb9f3a"
             ],
             [
              0.8888888888888888,
              "#fdca26"
             ],
             [
              1,
              "#f0f921"
             ]
            ],
            "type": "histogram2d"
           }
          ],
          "histogram2dcontour": [
           {
            "colorbar": {
             "outlinewidth": 0,
             "ticks": ""
            },
            "colorscale": [
             [
              0,
              "#0d0887"
             ],
             [
              0.1111111111111111,
              "#46039f"
             ],
             [
              0.2222222222222222,
              "#7201a8"
             ],
             [
              0.3333333333333333,
              "#9c179e"
             ],
             [
              0.4444444444444444,
              "#bd3786"
             ],
             [
              0.5555555555555556,
              "#d8576b"
             ],
             [
              0.6666666666666666,
              "#ed7953"
             ],
             [
              0.7777777777777778,
              "#fb9f3a"
             ],
             [
              0.8888888888888888,
              "#fdca26"
             ],
             [
              1,
              "#f0f921"
             ]
            ],
            "type": "histogram2dcontour"
           }
          ],
          "mesh3d": [
           {
            "colorbar": {
             "outlinewidth": 0,
             "ticks": ""
            },
            "type": "mesh3d"
           }
          ],
          "parcoords": [
           {
            "line": {
             "colorbar": {
              "outlinewidth": 0,
              "ticks": ""
             }
            },
            "type": "parcoords"
           }
          ],
          "pie": [
           {
            "automargin": true,
            "type": "pie"
           }
          ],
          "scatter": [
           {
            "fillpattern": {
             "fillmode": "overlay",
             "size": 10,
             "solidity": 0.2
            },
            "type": "scatter"
           }
          ],
          "scatter3d": [
           {
            "line": {
             "colorbar": {
              "outlinewidth": 0,
              "ticks": ""
             }
            },
            "marker": {
             "colorbar": {
              "outlinewidth": 0,
              "ticks": ""
             }
            },
            "type": "scatter3d"
           }
          ],
          "scattercarpet": [
           {
            "marker": {
             "colorbar": {
              "outlinewidth": 0,
              "ticks": ""
             }
            },
            "type": "scattercarpet"
           }
          ],
          "scattergeo": [
           {
            "marker": {
             "colorbar": {
              "outlinewidth": 0,
              "ticks": ""
             }
            },
            "type": "scattergeo"
           }
          ],
          "scattergl": [
           {
            "marker": {
             "colorbar": {
              "outlinewidth": 0,
              "ticks": ""
             }
            },
            "type": "scattergl"
           }
          ],
          "scattermap": [
           {
            "marker": {
             "colorbar": {
              "outlinewidth": 0,
              "ticks": ""
             }
            },
            "type": "scattermap"
           }
          ],
          "scattermapbox": [
           {
            "marker": {
             "colorbar": {
              "outlinewidth": 0,
              "ticks": ""
             }
            },
            "type": "scattermapbox"
           }
          ],
          "scatterpolar": [
           {
            "marker": {
             "colorbar": {
              "outlinewidth": 0,
              "ticks": ""
             }
            },
            "type": "scatterpolar"
           }
          ],
          "scatterpolargl": [
           {
            "marker": {
             "colorbar": {
              "outlinewidth": 0,
              "ticks": ""
             }
            },
            "type": "scatterpolargl"
           }
          ],
          "scatterternary": [
           {
            "marker": {
             "colorbar": {
              "outlinewidth": 0,
              "ticks": ""
             }
            },
            "type": "scatterternary"
           }
          ],
          "surface": [
           {
            "colorbar": {
             "outlinewidth": 0,
             "ticks": ""
            },
            "colorscale": [
             [
              0,
              "#0d0887"
             ],
             [
              0.1111111111111111,
              "#46039f"
             ],
             [
              0.2222222222222222,
              "#7201a8"
             ],
             [
              0.3333333333333333,
              "#9c179e"
             ],
             [
              0.4444444444444444,
              "#bd3786"
             ],
             [
              0.5555555555555556,
              "#d8576b"
             ],
             [
              0.6666666666666666,
              "#ed7953"
             ],
             [
              0.7777777777777778,
              "#fb9f3a"
             ],
             [
              0.8888888888888888,
              "#fdca26"
             ],
             [
              1,
              "#f0f921"
             ]
            ],
            "type": "surface"
           }
          ],
          "table": [
           {
            "cells": {
             "fill": {
              "color": "#EBF0F8"
             },
             "line": {
              "color": "white"
             }
            },
            "header": {
             "fill": {
              "color": "#C8D4E3"
             },
             "line": {
              "color": "white"
             }
            },
            "type": "table"
           }
          ]
         },
         "layout": {
          "annotationdefaults": {
           "arrowcolor": "#2a3f5f",
           "arrowhead": 0,
           "arrowwidth": 1
          },
          "autotypenumbers": "strict",
          "coloraxis": {
           "colorbar": {
            "outlinewidth": 0,
            "ticks": ""
           }
          },
          "colorscale": {
           "diverging": [
            [
             0,
             "#8e0152"
            ],
            [
             0.1,
             "#c51b7d"
            ],
            [
             0.2,
             "#de77ae"
            ],
            [
             0.3,
             "#f1b6da"
            ],
            [
             0.4,
             "#fde0ef"
            ],
            [
             0.5,
             "#f7f7f7"
            ],
            [
             0.6,
             "#e6f5d0"
            ],
            [
             0.7,
             "#b8e186"
            ],
            [
             0.8,
             "#7fbc41"
            ],
            [
             0.9,
             "#4d9221"
            ],
            [
             1,
             "#276419"
            ]
           ],
           "sequential": [
            [
             0,
             "#0d0887"
            ],
            [
             0.1111111111111111,
             "#46039f"
            ],
            [
             0.2222222222222222,
             "#7201a8"
            ],
            [
             0.3333333333333333,
             "#9c179e"
            ],
            [
             0.4444444444444444,
             "#bd3786"
            ],
            [
             0.5555555555555556,
             "#d8576b"
            ],
            [
             0.6666666666666666,
             "#ed7953"
            ],
            [
             0.7777777777777778,
             "#fb9f3a"
            ],
            [
             0.8888888888888888,
             "#fdca26"
            ],
            [
             1,
             "#f0f921"
            ]
           ],
           "sequentialminus": [
            [
             0,
             "#0d0887"
            ],
            [
             0.1111111111111111,
             "#46039f"
            ],
            [
             0.2222222222222222,
             "#7201a8"
            ],
            [
             0.3333333333333333,
             "#9c179e"
            ],
            [
             0.4444444444444444,
             "#bd3786"
            ],
            [
             0.5555555555555556,
             "#d8576b"
            ],
            [
             0.6666666666666666,
             "#ed7953"
            ],
            [
             0.7777777777777778,
             "#fb9f3a"
            ],
            [
             0.8888888888888888,
             "#fdca26"
            ],
            [
             1,
             "#f0f921"
            ]
           ]
          },
          "colorway": [
           "#636efa",
           "#EF553B",
           "#00cc96",
           "#ab63fa",
           "#FFA15A",
           "#19d3f3",
           "#FF6692",
           "#B6E880",
           "#FF97FF",
           "#FECB52"
          ],
          "font": {
           "color": "#2a3f5f"
          },
          "geo": {
           "bgcolor": "white",
           "lakecolor": "white",
           "landcolor": "#E5ECF6",
           "showlakes": true,
           "showland": true,
           "subunitcolor": "white"
          },
          "hoverlabel": {
           "align": "left"
          },
          "hovermode": "closest",
          "mapbox": {
           "style": "light"
          },
          "paper_bgcolor": "white",
          "plot_bgcolor": "#E5ECF6",
          "polar": {
           "angularaxis": {
            "gridcolor": "white",
            "linecolor": "white",
            "ticks": ""
           },
           "bgcolor": "#E5ECF6",
           "radialaxis": {
            "gridcolor": "white",
            "linecolor": "white",
            "ticks": ""
           }
          },
          "scene": {
           "xaxis": {
            "backgroundcolor": "#E5ECF6",
            "gridcolor": "white",
            "gridwidth": 2,
            "linecolor": "white",
            "showbackground": true,
            "ticks": "",
            "zerolinecolor": "white"
           },
           "yaxis": {
            "backgroundcolor": "#E5ECF6",
            "gridcolor": "white",
            "gridwidth": 2,
            "linecolor": "white",
            "showbackground": true,
            "ticks": "",
            "zerolinecolor": "white"
           },
           "zaxis": {
            "backgroundcolor": "#E5ECF6",
            "gridcolor": "white",
            "gridwidth": 2,
            "linecolor": "white",
            "showbackground": true,
            "ticks": "",
            "zerolinecolor": "white"
           }
          },
          "shapedefaults": {
           "line": {
            "color": "#2a3f5f"
           }
          },
          "ternary": {
           "aaxis": {
            "gridcolor": "white",
            "linecolor": "white",
            "ticks": ""
           },
           "baxis": {
            "gridcolor": "white",
            "linecolor": "white",
            "ticks": ""
           },
           "bgcolor": "#E5ECF6",
           "caxis": {
            "gridcolor": "white",
            "linecolor": "white",
            "ticks": ""
           }
          },
          "title": {
           "x": 0.05
          },
          "xaxis": {
           "automargin": true,
           "gridcolor": "white",
           "linecolor": "white",
           "ticks": "",
           "title": {
            "standoff": 15
           },
           "zerolinecolor": "white",
           "zerolinewidth": 2
          },
          "yaxis": {
           "automargin": true,
           "gridcolor": "white",
           "linecolor": "white",
           "ticks": "",
           "title": {
            "standoff": 15
           },
           "zerolinecolor": "white",
           "zerolinewidth": 2
          }
         }
        }
       }
      }
     },
     "metadata": {},
     "output_type": "display_data"
    }
   ],
   "source": [
    "fig = go.Figure()\n",
    "\n",
    "marker_step = 10\n",
    "marker_indices = df.index[::marker_step]\n",
    "mach_min = 0.0\n",
    "mach_max = 3.0\n",
    "mach_threshold = 1.0\n",
    "mach_colorscale = [\n",
    "    [mach_min, '#f29'],   # Зеленый при Mach = 0.0\n",
    "    [mach_threshold / mach_max, '#4af'],  # Голубой при Mach = 1.0\n",
    "    [mach_threshold / mach_max, '#f00'],  # Красный тоже при Mach = 1.0 (резкое изменение)\n",
    "    [1.0, '#ff0']    # Желтый при Mach = 3.0\n",
    "]\n",
    "\n",
    "# fig.add_trace(go.Scatter3d(\n",
    "#   x=df.loc[marker_indices, 'projectile.position.x'],\n",
    "#   z=df.loc[marker_indices, 'projectile.position.y'],\n",
    "#   y=df.loc[marker_indices, 'projectile.position.z'],\n",
    "#   mode='markers',\n",
    "#   marker=dict(\n",
    "#     size=3,\n",
    "#     color=df['projectile.current_drag_coef'][2:],\n",
    "#     colorscale='Jet',\n",
    "#     colorbar=dict(\n",
    "#       title='Drag Coefficient',\n",
    "#       y=0.0,\n",
    "#       len=0.5\n",
    "#     )\n",
    "#   ),\n",
    "#   name=\"Drag Coefficient\"\n",
    "# ))\n",
    "customdata_df, hovertemplate_df = make_hover_data(df)\n",
    "fig.add_trace(go.Scatter3d(\n",
    "  x=df['projectile.position.x'],\n",
    "  z=df['projectile.position.y'],\n",
    "  y=df['projectile.position.z'],\n",
    "  mode='lines',\n",
    "  line=dict(\n",
    "    width=5,\n",
    "    color=df['projectile.mach_number'],\n",
    "    colorscale=mach_colorscale,\n",
    "    cmin=mach_min,\n",
    "    cmax=mach_max,\n",
    "    colorbar=dict(\n",
    "      title='Mach Number',\n",
    "      y=0.5,\n",
    "      len=0.5\n",
    "    ),\n",
    "  ),\n",
    "  name='YIP',\n",
    "  customdata=customdata_df,\n",
    "  hovertemplate=hovertemplate_df\n",
    "))\n",
    "\n",
    "###\n",
    "# Draw Sample Plot\n",
    "###\n",
    "\n",
    "# sample = sample_m855\n",
    "# customdata_sample, hovertemplate_sample = make_hover_data(sample)\n",
    "# fig.add_trace(go.Scatter3d(\n",
    "#   x=sample['projectile.position.x']+0.01,\n",
    "#   z=sample['projectile.position.y'],\n",
    "#   y=sample['projectile.position.z'],\n",
    "#   mode='lines',\n",
    "#   line=dict(\n",
    "#       width=5,\n",
    "#       cmin=mach_min,\n",
    "#       cmax=mach_max,\n",
    "#       color=sample['projectile.mach_number'],\n",
    "#       colorscale=mach_colorscale,\n",
    "#     ),\n",
    "#   name='Sample',\n",
    "#   customdata=customdata_sample,\n",
    "#   hovertemplate=hovertemplate_sample\n",
    "# ))\n",
    "\n",
    "\n",
    "scene_ax = dict(\n",
    "  backgroundcolor='#444',\n",
    "  gridcolor='#666',\n",
    "  showbackground=True,\n",
    "  zerolinecolor='#666',\n",
    "  color='white'\n",
    ")\n",
    "fig.update_layout(\n",
    "  paper_bgcolor='#333',\n",
    "  plot_bgcolor='#444',\n",
    "  font=dict(\n",
    "    color='white'\n",
    "  ),\n",
    "  scene_camera=dict(\n",
    "    eye=dict(x=-1.5, y=0.0, z=0.0)  # положение \"глаза камеры\"\n",
    "  ),\n",
    "  scene=dict(\n",
    "    aspectmode='manual',\n",
    "    aspectratio=dict(x=0.5, y=2.5, z=0.5),\n",
    "    xaxis=scene_ax,\n",
    "    yaxis=scene_ax,\n",
    "    zaxis=scene_ax\n",
    "  ),\n",
    "  margin=dict(l=0, r=0, b=0, t=10)\n",
    ")"
   ]
  },
  {
   "cell_type": "code",
   "execution_count": null,
   "id": "50e98c12",
   "metadata": {},
   "outputs": [
    {
     "data": {
      "text/html": [
       "<div>\n",
       "<style scoped>\n",
       "    .dataframe tbody tr th:only-of-type {\n",
       "        vertical-align: middle;\n",
       "    }\n",
       "\n",
       "    .dataframe tbody tr th {\n",
       "        vertical-align: top;\n",
       "    }\n",
       "\n",
       "    .dataframe thead th {\n",
       "        text-align: right;\n",
       "    }\n",
       "</style>\n",
       "<table border=\"1\" class=\"dataframe\">\n",
       "  <thead>\n",
       "    <tr style=\"text-align: right;\">\n",
       "      <th></th>\n",
       "      <th>projectile.flight_time</th>\n",
       "      <th>projectile.position.z</th>\n",
       "      <th>projectile.kinetic_energy</th>\n",
       "      <th>projectile.velocity.length</th>\n",
       "      <th>projectile.mach_number</th>\n",
       "    </tr>\n",
       "  </thead>\n",
       "  <tbody>\n",
       "    <tr>\n",
       "      <th>0</th>\n",
       "      <td>0.000000e+00</td>\n",
       "      <td>0.000000</td>\n",
       "      <td>157.267600</td>\n",
       "      <td>45.700000</td>\n",
       "      <td>-1.954033</td>\n",
       "    </tr>\n",
       "    <tr>\n",
       "      <th>1</th>\n",
       "      <td>-9.714451e-17</td>\n",
       "      <td>43.598116</td>\n",
       "      <td>-1235.091813</td>\n",
       "      <td>-779.668536</td>\n",
       "      <td>-2.302464</td>\n",
       "    </tr>\n",
       "    <tr>\n",
       "      <th>2</th>\n",
       "      <td>-5.666667e-02</td>\n",
       "      <td>89.303283</td>\n",
       "      <td>-978.848755</td>\n",
       "      <td>-693.584919</td>\n",
       "      <td>-2.048998</td>\n",
       "    </tr>\n",
       "    <tr>\n",
       "      <th>3</th>\n",
       "      <td>-1.283333e-01</td>\n",
       "      <td>135.030628</td>\n",
       "      <td>-765.986630</td>\n",
       "      <td>-613.032044</td>\n",
       "      <td>-1.812381</td>\n",
       "    </tr>\n",
       "    <tr>\n",
       "      <th>4</th>\n",
       "      <td>-2.116667e-01</td>\n",
       "      <td>180.765752</td>\n",
       "      <td>-592.440896</td>\n",
       "      <td>-538.174185</td>\n",
       "      <td>-1.592724</td>\n",
       "    </tr>\n",
       "    <tr>\n",
       "      <th>5</th>\n",
       "      <td>-3.033333e-01</td>\n",
       "      <td>226.493543</td>\n",
       "      <td>-452.791671</td>\n",
       "      <td>-470.411958</td>\n",
       "      <td>-1.393734</td>\n",
       "    </tr>\n",
       "    <tr>\n",
       "      <th>6</th>\n",
       "      <td>-4.050000e-01</td>\n",
       "      <td>272.221495</td>\n",
       "      <td>-347.037327</td>\n",
       "      <td>-410.570408</td>\n",
       "      <td>-1.218039</td>\n",
       "    </tr>\n",
       "    <tr>\n",
       "      <th>7</th>\n",
       "      <td>-5.266667e-01</td>\n",
       "      <td>317.949616</td>\n",
       "      <td>-269.754656</td>\n",
       "      <td>-361.697263</td>\n",
       "      <td>-1.074599</td>\n",
       "    </tr>\n",
       "    <tr>\n",
       "      <th>8</th>\n",
       "      <td>-6.583333e-01</td>\n",
       "      <td>363.677911</td>\n",
       "      <td>-219.587845</td>\n",
       "      <td>-325.925825</td>\n",
       "      <td>-0.969686</td>\n",
       "    </tr>\n",
       "    <tr>\n",
       "      <th>9</th>\n",
       "      <td>-8.000000e-01</td>\n",
       "      <td>409.406389</td>\n",
       "      <td>-188.399797</td>\n",
       "      <td>-300.403908</td>\n",
       "      <td>-0.895162</td>\n",
       "    </tr>\n",
       "    <tr>\n",
       "      <th>10</th>\n",
       "      <td>-9.616667e-01</td>\n",
       "      <td>455.135240</td>\n",
       "      <td>-165.346004</td>\n",
       "      <td>-281.572008</td>\n",
       "      <td>-0.840341</td>\n",
       "    </tr>\n",
       "  </tbody>\n",
       "</table>\n",
       "</div>"
      ],
      "text/plain": [
       "    projectile.flight_time  projectile.position.z  projectile.kinetic_energy  \\\n",
       "0             0.000000e+00               0.000000                 157.267600   \n",
       "1            -9.714451e-17              43.598116               -1235.091813   \n",
       "2            -5.666667e-02              89.303283                -978.848755   \n",
       "3            -1.283333e-01             135.030628                -765.986630   \n",
       "4            -2.116667e-01             180.765752                -592.440896   \n",
       "5            -3.033333e-01             226.493543                -452.791671   \n",
       "6            -4.050000e-01             272.221495                -347.037327   \n",
       "7            -5.266667e-01             317.949616                -269.754656   \n",
       "8            -6.583333e-01             363.677911                -219.587845   \n",
       "9            -8.000000e-01             409.406389                -188.399797   \n",
       "10           -9.616667e-01             455.135240                -165.346004   \n",
       "\n",
       "    projectile.velocity.length  projectile.mach_number  \n",
       "0                    45.700000               -1.954033  \n",
       "1                  -779.668536               -2.302464  \n",
       "2                  -693.584919               -2.048998  \n",
       "3                  -613.032044               -1.812381  \n",
       "4                  -538.174185               -1.592724  \n",
       "5                  -470.411958               -1.393734  \n",
       "6                  -410.570408               -1.218039  \n",
       "7                  -361.697263               -1.074599  \n",
       "8                  -325.925825               -0.969686  \n",
       "9                  -300.403908               -0.895162  \n",
       "10                 -281.572008               -0.840341  "
      ]
     },
     "execution_count": 551,
     "metadata": {},
     "output_type": "execute_result"
    }
   ],
   "source": [
    "cols = ['projectile.flight_time', 'projectile.position.z', 'projectile.kinetic_energy', 'projectile.velocity.length', 'projectile.mach_number']\n",
    "sample_times = sample['projectile.flight_time'].values\n",
    "df_times = df['projectile.flight_time']\n",
    "\n",
    "matched_df = match_by_nearest(sample_times, df_times, df)[cols].reset_index(drop=True)\n",
    "matched_df - sample[cols]"
   ]
  },
  {
   "cell_type": "code",
   "execution_count": null,
   "id": "ecd3d54e",
   "metadata": {},
   "outputs": [],
   "source": []
  }
 ],
 "metadata": {
  "kernelspec": {
   "display_name": ".venv (3.13.2)",
   "language": "python",
   "name": "python3"
  },
  "language_info": {
   "codemirror_mode": {
    "name": "ipython",
    "version": 3
   },
   "file_extension": ".py",
   "mimetype": "text/x-python",
   "name": "python",
   "nbconvert_exporter": "python",
   "pygments_lexer": "ipython3",
   "version": "3.13.2"
  }
 },
 "nbformat": 4,
 "nbformat_minor": 5
}
