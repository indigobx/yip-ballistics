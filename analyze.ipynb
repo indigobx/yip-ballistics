{
 "cells": [
  {
   "cell_type": "code",
   "execution_count": 6,
   "id": "f9a3a90d",
   "metadata": {},
   "outputs": [],
   "source": [
    "import os\n",
    "import json\n",
    "import pandas as pd"
   ]
  },
  {
   "cell_type": "code",
   "execution_count": 12,
   "id": "9b676f37",
   "metadata": {},
   "outputs": [],
   "source": [
    "data_dir = './data_dump'\n",
    "pd.set_option('display.max_columns', None)"
   ]
  },
  {
   "cell_type": "code",
   "execution_count": 13,
   "id": "f6ba9368",
   "metadata": {},
   "outputs": [],
   "source": [
    "for fn in os.listdir(data_dir):\n",
    "  with open(os.path.join(data_dir, fn), 'r') as f:\n",
    "    data = json.load(f)\n",
    "    df_raw = pd.json_normalize(data)"
   ]
  },
  {
   "cell_type": "code",
   "execution_count": null,
   "id": "5ac101df",
   "metadata": {},
   "outputs": [
    {
     "data": {
      "text/plain": [
       "{'medium.base_density': np.float64(1.225),\n",
       " 'medium.drag_coef': np.float64(0.47),\n",
       " 'medium.drag_model': 'quadratic',\n",
       " 'medium.molar_mass': np.float64(0.029),\n",
       " 'medium.rha_coef': np.float64(1e-05),\n",
       " 'medium.speed_of_sound': np.float64(343.0),\n",
       " 'medium.type': 'gas',\n",
       " 'medium.viscosity': np.float64(1.81e-05),\n",
       " 'naming.ammo_name': '5.56x45_M855',\n",
       " 'naming.projectile_uid': 'proj_ZAuKc4a2',\n",
       " 'naming.weapon_name': 'SCAR_L_CQC',\n",
       " 'projectile.ammo': '<Resource#-9223371996220357260>',\n",
       " 'projectile.caliber': np.float64(5.7),\n",
       " 'projectile.core_caliber': np.float64(5.4),\n",
       " 'projectile.core_hardness': np.float64(0.6),\n",
       " 'projectile.core_mass': np.float64(2.0),\n",
       " 'projectile.cross_section': np.float64(2.55175863287831e-05),\n",
       " 'projectile.drag_coef': np.float64(0.28),\n",
       " 'projectile.fragmentation_chance': np.float64(0.1),\n",
       " 'projectile.fragmentation_count': np.int64(0),\n",
       " 'projectile.fragments_max': np.int64(4),\n",
       " 'projectile.fragments_min': np.int64(2),\n",
       " 'projectile.impact_count': np.int64(0),\n",
       " 'projectile.kind': 'normal',\n",
       " 'projectile.length': np.float64(23.0),\n",
       " 'projectile.length_diameter_ratio': np.float64(0.0),\n",
       " 'projectile.magnus_effect_factor': np.float64(0.0),\n",
       " 'projectile.mass': np.float64(4.1),\n",
       " 'projectile.penetration_count': np.int64(0),\n",
       " 'projectile.ricochet_count': np.int64(0),\n",
       " 'projectile.ricochet_max_angle': np.float64(68.0),\n",
       " 'projectile.ricochet_min_angle': np.float64(12.0),\n",
       " 'projectile.spin_decay_rate': np.float64(0.998),\n",
       " 'projectile.stability_factor': np.float64(1.0),\n",
       " 'projectile.ttl': np.float64(3.419),\n",
       " 'projectile.tumble_time': np.float64(0.0),\n",
       " 'projectile.uid': 'proj_ZAuKc4a2',\n",
       " 'projectile.weapon': '<Resource#-9223371996136471184>',\n",
       " 'timing.delta': np.float64(0.0166666666666667)}"
      ]
     },
     "execution_count": 28,
     "metadata": {},
     "output_type": "execute_result"
    }
   ],
   "source": [
    "static_data = {}\n",
    "static_cols = ['angular_velocity', 'position', 'velocity', 'rotation']\n",
    "for col in df_raw.columns:\n",
    "  if len(df_raw[col].unique()) == 1 and all(stc not in col for stc in static_cols):\n",
    "    static_data[col] = df_raw[col].unique()[0]\n",
    "static_data"
   ]
  },
  {
   "cell_type": "code",
   "execution_count": null,
   "id": "e4e3b77b",
   "metadata": {},
   "outputs": [],
   "source": []
  }
 ],
 "metadata": {
  "kernelspec": {
   "display_name": ".venv (3.13.2)",
   "language": "python",
   "name": "python3"
  },
  "language_info": {
   "codemirror_mode": {
    "name": "ipython",
    "version": 3
   },
   "file_extension": ".py",
   "mimetype": "text/x-python",
   "name": "python",
   "nbconvert_exporter": "python",
   "pygments_lexer": "ipython3",
   "version": "3.13.2"
  }
 },
 "nbformat": 4,
 "nbformat_minor": 5
}
